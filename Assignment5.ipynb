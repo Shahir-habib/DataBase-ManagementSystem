{
 "cells": [
  {
   "cell_type": "code",
   "execution_count": null,
   "id": "c2c68d87-6591-4dee-ad57-0aa0da22d6b2",
   "metadata": {},
   "outputs": [],
   "source": [
    "CREATE OR REPLACE TRIGGER trg_manage_backpaper\n",
    "AFTER INSERT OR UPDATE ON RESULT\n",
    "FOR EACH ROW\n",
    "DECLARE\n",
    "  v_count NUMBER;\n",
    "BEGIN\n",
    "  IF :NEW.MARKS >= 50 THEN\n",
    "    -- Delete the row from BACKPAPER if it exists\n",
    "    DELETE FROM BACKPAPER\n",
    "    WHERE ROLL = :NEW.ROLL AND SCODE = :NEW.SCODE;\n",
    "\n",
    "  ELSE\n",
    "    -- Check if the row already exists\n",
    "    SELECT COUNT(*) INTO v_count\n",
    "    FROM BACKPAPER\n",
    "    WHERE ROLL = :NEW.ROLL AND SCODE = :NEW.SCODE;\n",
    "\n",
    "    -- Insert only if it does not exist\n",
    "    IF v_count = 0 THEN\n",
    "      INSERT INTO BACKPAPER (ROLL, SCODE)\n",
    "      VALUES (:NEW.ROLL, :NEW.SCODE);\n",
    "    END IF;\n",
    "  END IF;\n",
    "END;\n",
    "/\n"
   ]
  },
  {
   "cell_type": "code",
   "execution_count": null,
   "id": "50152144-ecba-49b5-9420-9d9852f08f6e",
   "metadata": {},
   "outputs": [],
   "source": [
    "CREATE OR REPLACE TRIGGER trg_log_on_delete_request\n",
    "AFTER DELETE ON REQUEST\n",
    "FOR EACH ROW\n",
    "DECLARE\n",
    "  v_last_entry_no NUMBER;\n",
    "BEGIN\n",
    "  -- Get the current maximum ENTRY_NO from SERVICE_LOG\n",
    "  SELECT NVL(MAX(ENTRY_NO), 0)\n",
    "  INTO v_last_entry_no\n",
    "  FROM SERVICE_LOG;\n",
    "\n",
    "  -- Insert new log entry with incremented ENTRY_NO\n",
    "  INSERT INTO SERVICE_LOG (ENTRY_NO, REQ_NO, SERVICE_DT)\n",
    "  VALUES (v_last_entry_no + 1, :OLD.REQ_NO, SYSDATE);\n",
    "END;\n",
    "/\n"
   ]
  }
 ],
 "metadata": {
  "kernelspec": {
   "display_name": "Python 3 (ipykernel)",
   "language": "python",
   "name": "python3"
  },
  "language_info": {
   "codemirror_mode": {
    "name": "ipython",
    "version": 3
   },
   "file_extension": ".py",
   "mimetype": "text/x-python",
   "name": "python",
   "nbconvert_exporter": "python",
   "pygments_lexer": "ipython3",
   "version": "3.13.3"
  }
 },
 "nbformat": 4,
 "nbformat_minor": 5
}
