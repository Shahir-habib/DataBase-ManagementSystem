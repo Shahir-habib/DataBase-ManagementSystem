{
 "cells": [
  {
   "cell_type": "code",
   "execution_count": 2,
   "id": "f861a971-1c9e-49bd-862f-ceb438afafb4",
   "metadata": {},
   "outputs": [],
   "source": [
    "import sqlite3\n",
    "import os\n",
    "from IPython.display import display, Markdown\n",
    "from tabulate import tabulate\n",
    "# Function to display markdown text\n",
    "def display_markdown(text):\n",
    "    display(Markdown(text))\n",
    "# Set the path to the database file inside the 'data' folder\n",
    "db_path = os.path.join('..', 'data', 'Employeedetails.db')\n",
    "\n",
    "# Set up the database connection\n",
    "conn = sqlite3.connect('Employeedetails.db')\n",
    "cursor = conn.cursor()"
   ]
  },
  {
   "cell_type": "code",
   "execution_count": 3,
   "id": "7492bd23-e6d8-4abf-8b02-934ed31c5e70",
   "metadata": {},
   "outputs": [],
   "source": [
    "cursor.execute(\"\"\"\n",
    "CREATE TABLE IF NOT EXISTS EMP (\n",
    "    emp_code varchar(5) PRIMARY KEY,\n",
    "    emp_name varchar(20),\n",
    "    dept_code varchar(5),\n",
    "    desig_code varchar(5),\n",
    "    sex varchar(1),\n",
    "    address varchar(25),\n",
    "    city varchar(20),\n",
    "    state varchar(20),\n",
    "    pin varchar(6),\n",
    "    basic int,\n",
    "    JN_date date\n",
    ")\n",
    "\"\"\")\n",
    "cursor.execute(\"CREATE TABLE IF NOT EXISTS DESIGNATION (desig_code VARCHAR(5) PRIMARY KEY, desig_name VARCHAR(15))\")\n",
    "cursor.execute(\"CREATE TABLE IF NOT EXISTS DEPARTMENT (dept_code VARCHAR(5) PRIMARY KEY, dept_name VARCHAR(15))\")\n",
    "conn.commit()"
   ]
  },
  {
   "cell_type": "code",
   "execution_count": 4,
   "id": "a1147ca3-8682-4024-a414-4d825714ae17",
   "metadata": {},
   "outputs": [
    {
     "name": "stdout",
     "output_type": "stream",
     "text": [
      "Table: EMP\n"
     ]
    },
    {
     "data": {
      "text/markdown": [
       "|   cid | name       | type        |   notnull | dflt_value   |   pk |\n",
       "|------:|:-----------|:------------|----------:|:-------------|-----:|\n",
       "|     0 | emp_code   | varchar(5)  |         0 |              |    1 |\n",
       "|     1 | emp_name   | varchar(20) |         0 |              |    0 |\n",
       "|     2 | dept_code  | varchar(5)  |         0 |              |    0 |\n",
       "|     3 | desig_code | varchar(5)  |         0 |              |    0 |\n",
       "|     4 | sex        | varchar(1)  |         0 |              |    0 |\n",
       "|     5 | address    | varchar(25) |         0 |              |    0 |\n",
       "|     6 | city       | varchar(20) |         0 |              |    0 |\n",
       "|     7 | state      | varchar(20) |         0 |              |    0 |\n",
       "|     8 | pin        | varchar(6)  |         0 |              |    0 |\n",
       "|     9 | basic      | INT         |         0 |              |    0 |\n",
       "|    10 | JN_date    | date        |         0 |              |    0 |"
      ],
      "text/plain": [
       "<IPython.core.display.Markdown object>"
      ]
     },
     "metadata": {},
     "output_type": "display_data"
    },
    {
     "name": "stdout",
     "output_type": "stream",
     "text": [
      "\n",
      "\n",
      "Table: DEPARTMENT\n"
     ]
    },
    {
     "data": {
      "text/markdown": [
       "|   cid | name      | type        |   notnull | dflt_value   |   pk |\n",
       "|------:|:----------|:------------|----------:|:-------------|-----:|\n",
       "|     0 | dept_code | VARCHAR(5)  |         0 |              |    1 |\n",
       "|     1 | dept_name | VARCHAR(15) |         0 |              |    0 |"
      ],
      "text/plain": [
       "<IPython.core.display.Markdown object>"
      ]
     },
     "metadata": {},
     "output_type": "display_data"
    },
    {
     "name": "stdout",
     "output_type": "stream",
     "text": [
      "\n",
      "\n",
      "Table: DESIGNATION\n"
     ]
    },
    {
     "data": {
      "text/markdown": [
       "|   cid | name       | type        |   notnull | dflt_value   |   pk |\n",
       "|------:|:-----------|:------------|----------:|:-------------|-----:|\n",
       "|     0 | desig_code | VARCHAR(5)  |         0 |              |    1 |\n",
       "|     1 | desig_name | VARCHAR(15) |         0 |              |    0 |"
      ],
      "text/plain": [
       "<IPython.core.display.Markdown object>"
      ]
     },
     "metadata": {},
     "output_type": "display_data"
    },
    {
     "name": "stdout",
     "output_type": "stream",
     "text": [
      "\n",
      "\n"
     ]
    }
   ],
   "source": [
    "# Define a function to describe tables\n",
    "def describe_table(table_name):\n",
    "    cursor.execute(f\"PRAGMA table_info({table_name})\")\n",
    "    rows = cursor.fetchall()\n",
    "    headers = [\"cid\", \"name\", \"type\", \"notnull\", \"dflt_value\", \"pk\"]\n",
    "    print(f\"Table: {table_name}\")\n",
    "    display_markdown(tabulate(rows, headers=headers, tablefmt=\"pipe\"))\n",
    "    print(\"\\n\")\n",
    "\n",
    "# Describe the EMP table\n",
    "describe_table(\"EMP\")\n",
    "\n",
    "# Describe the DEPARTMENT table\n",
    "describe_table(\"DEPARTMENT\")\n",
    "\n",
    "# Describe the DESIGNATION table\n",
    "describe_table(\"DESIGNATION\")"
   ]
  },
  {
   "cell_type": "code",
   "execution_count": 7,
   "id": "835c96ac-d885-4d18-ba42-f7c1a8c8f766",
   "metadata": {},
   "outputs": [],
   "source": [
    "\n",
    "# Insert values into the DESIGNATION table\n",
    "cursor.execute(\"INSERT INTO DESIGNATION VALUES ('D001', 'Manager'), ('D002', 'Executive'), ('D003', 'Officer'), ('D004', 'Clerk'), ('D005', 'Helper')\")\n",
    "# Insert values into the DEPARTMENT table\n",
    "cursor.execute(\"INSERT INTO DEPARTMENT VALUES ('P001', 'Personell'), ('P002', 'Production'), ('P003', 'Purchase'), ('P004', 'Finance'), ('P005', 'Research')\")\n",
    "# Insert values into the EMP table\n",
    "cursor.execute(\"\"\"\n",
    "INSERT INTO EMP (emp_code, emp_name, dept_code, desig_code, sex, address, city, state, pin, basic, JN_date) \n",
    "VALUES \n",
    "    ('E001', 'Swapna Moy', 'P001', 'D001', 'F', '123, Park Street, Kolkata', 'Kolkata', 'West Bengal', '700001', 35000, '2023-01-15'),\n",
    "    ('E002', 'Abhinandan', 'P002', 'D002', 'M', '456, MG Road, Durgapur', 'Durgapur', 'West Bengal', '713201', 25000, '2023-02-20'),\n",
    "    ('E003', 'Abrar', 'P003', 'D003', 'M', '789, Salt Lake, Kolkata', 'Kolkata', 'West Bengal', '700091', 40000, '2023-03-10'),\n",
    "    ('E004', 'Shahir', 'P004', 'D004', 'M', '321, Rajarhat, Kolkata', 'Kolkata', 'West Bengal', '700135', 22000, '2023-04-05'),\n",
    "    ('E005', 'Masud', 'P005', 'D005', 'M', '654, Howrah Bridge, Howrah', 'Howrah', 'West Bengal', '711101', 18000, '2023-05-30'),\n",
    "    ('E006', 'Azim', 'P001', 'D001', 'M', '987, Dumdum, Kolkata', 'Kolkata', 'West Bengal', '700028', 33000, '2023-06-15'),\n",
    "    ('E007', 'Soumyodeep', 'P002', 'D002', 'M', '135, BBD Bagh, Kolkata', 'Kolkata', 'West Bengal', '700003', 27000, '2023-07-12'),\n",
    "    ('E008', 'Sidhdhart', 'P003', 'D003', 'M', '864, Jadavpur, Kolkata', 'Kolkata', 'West Bengal', '700032', 35000, '2023-08-01'),\n",
    "    ('E009', 'Akshat', 'P004', 'D004', 'M', '753, Sealdah, Kolkata', 'Kolkata', 'West Bengal', '700014', 23000, '2023-09-22'),\n",
    "    ('E010', 'Jeetesh', 'P005', 'D005', 'M', '987, Newtown, Kolkata', 'Kolkata', 'West Bengal', '700135', 20000, '2023-10-17'),\n",
    "    ('E011', 'Subham', 'P001', 'D002', 'M', '369, Ballygunge, Kolkata', 'Kolkata', 'West Bengal', '700019', 29000, '2023-11-05')\"\"\"\n",
    ")\n",
    "conn.commit()"
   ]
  },
  {
   "cell_type": "code",
   "execution_count": 8,
   "id": "913c104e-3cb0-404f-a4ac-d92cef6a76e6",
   "metadata": {},
   "outputs": [
    {
     "name": "stdout",
     "output_type": "stream",
     "text": [
      "Designation Table:\n"
     ]
    },
    {
     "data": {
      "text/markdown": [
       "| desig_code   | desig_name   |\n",
       "|:-------------|:-------------|\n",
       "| D001         | Manager      |\n",
       "| D002         | Executive    |\n",
       "| D003         | Officer      |\n",
       "| D004         | Clerk        |\n",
       "| D005         | Helper       |"
      ],
      "text/plain": [
       "<IPython.core.display.Markdown object>"
      ]
     },
     "metadata": {},
     "output_type": "display_data"
    },
    {
     "name": "stdout",
     "output_type": "stream",
     "text": [
      "\n",
      "\n",
      "\n",
      "Department Table:\n"
     ]
    },
    {
     "data": {
      "text/markdown": [
       "| dept_code   | dept_name   |\n",
       "|:------------|:------------|\n",
       "| P001        | Personell   |\n",
       "| P002        | Production  |\n",
       "| P003        | Purchase    |\n",
       "| P004        | Finance     |\n",
       "| P005        | Research    |"
      ],
      "text/plain": [
       "<IPython.core.display.Markdown object>"
      ]
     },
     "metadata": {},
     "output_type": "display_data"
    },
    {
     "name": "stdout",
     "output_type": "stream",
     "text": [
      "\n",
      "\n",
      "\n",
      "EMP Table:\n"
     ]
    },
    {
     "data": {
      "text/markdown": [
       "| emp_code   | emp_name   | dept_code   | desig_code   | sex   | address                    | city     | state       |    pin |   basic | JN_date    |\n",
       "|:-----------|:-----------|:------------|:-------------|:------|:---------------------------|:---------|:------------|-------:|--------:|:-----------|\n",
       "| E001       | Swapna Moy | P001        | D001         | F     | 123, Park Street, Kolkata  | Kolkata  | West Bengal | 700001 |   35000 | 2023-01-15 |\n",
       "| E002       | Abhinandan | P002        | D002         | M     | 456, MG Road, Durgapur     | Durgapur | West Bengal | 713201 |   25000 | 2023-02-20 |\n",
       "| E003       | Abrar      | P003        | D003         | M     | 789, Salt Lake, Kolkata    | Kolkata  | West Bengal | 700091 |   40000 | 2023-03-10 |\n",
       "| E004       | Shahir     | P004        | D004         | M     | 321, Rajarhat, Kolkata     | Kolkata  | West Bengal | 700135 |   22000 | 2023-04-05 |\n",
       "| E005       | Masud      | P005        | D005         | M     | 654, Howrah Bridge, Howrah | Howrah   | West Bengal | 711101 |   18000 | 2023-05-30 |\n",
       "| E006       | Azim       | P001        | D001         | M     | 987, Dumdum, Kolkata       | Kolkata  | West Bengal | 700028 |   33000 | 2023-06-15 |\n",
       "| E007       | Soumyodeep | P002        | D002         | M     | 135, BBD Bagh, Kolkata     | Kolkata  | West Bengal | 700003 |   27000 | 2023-07-12 |\n",
       "| E008       | Sidhdhart  | P003        | D003         | M     | 864, Jadavpur, Kolkata     | Kolkata  | West Bengal | 700032 |   35000 | 2023-08-01 |\n",
       "| E009       | Akshat     | P004        | D004         | M     | 753, Sealdah, Kolkata      | Kolkata  | West Bengal | 700014 |   23000 | 2023-09-22 |\n",
       "| E010       | Jeetesh    | P005        | D005         | M     | 987, Newtown, Kolkata      | Kolkata  | West Bengal | 700135 |   20000 | 2023-10-17 |\n",
       "| E011       | Subham     | P001        | D002         | M     | 369, Ballygunge, Kolkata   | Kolkata  | West Bengal | 700019 |   29000 | 2023-11-05 |"
      ],
      "text/plain": [
       "<IPython.core.display.Markdown object>"
      ]
     },
     "metadata": {},
     "output_type": "display_data"
    },
    {
     "name": "stdout",
     "output_type": "stream",
     "text": [
      "\n",
      "\n"
     ]
    }
   ],
   "source": [
    "emp_columns = [\"emp_code\", \"emp_name\", \"dept_code\", \"desig_code\", \"sex\", \"address\", \"city\", \"state\", \"pin\", \"basic\", \"JN_date\"]\n",
    "department_columns = [\"dept_code\", \"dept_name\"]\n",
    "designation_columns = [\"desig_code\", \"desig_name\"]\n",
    "\n",
    "cursor.execute(\"SELECT * FROM DESIGNATION\")\n",
    "designation_rows = cursor.fetchall()\n",
    "print(\"Designation Table:\")\n",
    "display_markdown(tabulate(designation_rows, headers=designation_columns, tablefmt=\"pipe\"))\n",
    "print(\"\\n\")\n",
    "cursor.execute(\"SELECT * FROM DEPARTMENT\")\n",
    "department_rows = cursor.fetchall()\n",
    "print(\"\\nDepartment Table:\")\n",
    "display_markdown(tabulate(department_rows, headers=department_columns, tablefmt=\"pipe\"))\n",
    "print(\"\\n\")\n",
    "\n",
    "cursor.execute(\"SELECT * FROM EMP\")\n",
    "emp_rows = cursor.fetchall()\n",
    "print(\"\\nEMP Table:\")\n",
    "display_markdown(tabulate(emp_rows, headers=emp_columns, tablefmt=\"pipe\"))\n",
    "print(\"\\n\")"
   ]
  },
  {
   "cell_type": "code",
   "execution_count": 9,
   "id": "7f677324-f383-48b1-aac2-746c4733ce69",
   "metadata": {},
   "outputs": [
    {
     "name": "stdout",
     "output_type": "stream",
     "text": [
      "\n",
      "EMP Table:\n"
     ]
    },
    {
     "data": {
      "text/markdown": [
       "| emp_code   | emp_name   | dept_code   | desig_code   | sex   | address                        | city      | state       |    pin |   basic | JN_date    |\n",
       "|:-----------|:-----------|:------------|:-------------|:------|:-------------------------------|:----------|:------------|-------:|--------:|:-----------|\n",
       "| E001       | Swapna Moy | P001        | D001         | F     | 123, Park Street, Kolkata      | Kolkata   | West Bengal | 700001 |   35000 | 2023-01-15 |\n",
       "| E002       | Abhinandan | P002        | D002         | M     | 456, MG Road, Durgapur         | Durgapur  | West Bengal | 713201 |   25000 | 2023-02-20 |\n",
       "| E003       | Abrar      | P003        | D003         | M     | 789, Salt Lake, Kolkata        | Kolkata   | West Bengal | 700091 |   40000 | 2023-03-10 |\n",
       "| E004       | Shahir     | P004        | D004         | M     | 321, Rajarhat, Kolkata         | Kolkata   | West Bengal | 700135 |   22000 | 2023-04-05 |\n",
       "| E005       | Masud      | P005        | D005         | M     | 654, Howrah Bridge, Howrah     | Howrah    | West Bengal | 711101 |   18000 | 2023-05-30 |\n",
       "| E006       | Azim       | P001        | D001         | M     | 987, Dumdum, Kolkata           | Kolkata   | West Bengal | 700028 |   33000 | 2023-06-15 |\n",
       "| E007       | Soumyodeep | P002        | D002         | M     | 135, BBD Bagh, Kolkata         | Kolkata   | West Bengal | 700003 |   27000 | 2023-07-12 |\n",
       "| E008       | Sidhdhart  | P003        | D003         | M     | 864, Jadavpur, Kolkata         | Kolkata   | West Bengal | 700032 |   35000 | 2023-08-01 |\n",
       "| E009       | Akshat     | P004        | D004         | M     | 753, Sealdah, Kolkata          | Kolkata   | West Bengal | 700014 |   23000 | 2023-09-22 |\n",
       "| E010       | Jeetesh    | P005        | D005         | M     | 987, Newtown, Kolkata          | Kolkata   | West Bengal | 700135 |   20000 | 2023-10-17 |\n",
       "| E011       | Subham     | P001        | D002         | M     | 369, Ballygunge, Kolkata       | Kolkata   | West Bengal | 700019 |   29000 | 2023-11-05 |\n",
       "| E012       | Saifee     |             | D001         | F     | 123, Bankura Road, Bankura     | Bankura   | West Bengal | 722101 |         | 1998-12-15 |\n",
       "| E013       | Sourav     |             | D002         | M     | 12/2, High Court Road, Birbhum | Birbhum   | West Bengal | 722102 |         | 1997-06-23 |\n",
       "| E014       | Binoy      |             | D003         | M     | 7, Baranganj  Road             | Sundarban | West Bengal | 722103 |         | 1995-11-05 |"
      ],
      "text/plain": [
       "<IPython.core.display.Markdown object>"
      ]
     },
     "metadata": {},
     "output_type": "display_data"
    },
    {
     "name": "stdout",
     "output_type": "stream",
     "text": [
      "\n",
      "\n"
     ]
    }
   ],
   "source": [
    "cursor.execute(\"\"\"\n",
    "INSERT INTO EMP (emp_code, emp_name, desig_code, sex, address, city, state, pin, JN_date) \n",
    "VALUES \n",
    "    ('E012', 'Saifee', 'D001', 'F', '123, Bankura Road, Bankura', 'Bankura', 'West Bengal', '722101', '1998-12-15'),\n",
    "    ('E013', 'Sourav', 'D002', 'M', '12/2, High Court Road, Birbhum', 'Birbhum', 'West Bengal', '722102', '1997-06-23'),\n",
    "    ('E014', 'Binoy', 'D003', 'M', '7, Baranganj  Road', 'Sundarban', 'West Bengal', '722103', '1995-11-05')\"\"\"\n",
    ")\n",
    "conn.commit()\n",
    "cursor.execute(\"SELECT * FROM EMP\")\n",
    "emp_rows = cursor.fetchall()\n",
    "print(\"\\nEMP Table:\")\n",
    "display_markdown(tabulate(emp_rows, headers=emp_columns, tablefmt=\"pipe\"))\n",
    "print(\"\\n\")"
   ]
  },
  {
   "cell_type": "code",
   "execution_count": 10,
   "id": "8ac5c79d-5333-4d2d-8fdf-e9e410532e37",
   "metadata": {},
   "outputs": [
    {
     "name": "stdout",
     "output_type": "stream",
     "text": [
      "\n",
      "EMP Table:\n"
     ]
    },
    {
     "data": {
      "text/markdown": [
       "| emp_code   | emp_name   | dept_code   | desig_code   | sex   | address                        | city      | state       |    pin | basic   | JN_date    |\n",
       "|:-----------|:-----------|:------------|:-------------|:------|:-------------------------------|:----------|:------------|-------:|:--------|:-----------|\n",
       "| E012       | Saifee     |             | D001         | F     | 123, Bankura Road, Bankura     | Bankura   | West Bengal | 722101 |         | 1998-12-15 |\n",
       "| E013       | Sourav     |             | D002         | M     | 12/2, High Court Road, Birbhum | Birbhum   | West Bengal | 722102 |         | 1997-06-23 |\n",
       "| E014       | Binoy      |             | D003         | M     | 7, Baranganj  Road             | Sundarban | West Bengal | 722103 |         | 1995-11-05 |"
      ],
      "text/plain": [
       "<IPython.core.display.Markdown object>"
      ]
     },
     "metadata": {},
     "output_type": "display_data"
    },
    {
     "name": "stdout",
     "output_type": "stream",
     "text": [
      "\n",
      "\n"
     ]
    }
   ],
   "source": [
    "cursor.execute(\"SELECT * FROM EMP WHERE dept_code IS NULL\")\n",
    "emp_rows = cursor.fetchall()\n",
    "print(\"\\nEMP Table:\")\n",
    "display_markdown(tabulate(emp_rows, headers=emp_columns, tablefmt=\"pipe\"))\n",
    "print(\"\\n\")"
   ]
  },
  {
   "cell_type": "code",
   "execution_count": 11,
   "id": "903fa894-8683-4f16-9ae9-c4778767c01d",
   "metadata": {},
   "outputs": [
    {
     "name": "stdout",
     "output_type": "stream",
     "text": [
      "\n",
      "EMP Table:\n"
     ]
    },
    {
     "data": {
      "text/markdown": [
       "| emp_code   | emp_name   | dept_code   | desig_code   | sex   | address   | city   | state   | pin   | basic   | JN_date   |\n",
       "|------------|------------|-------------|--------------|-------|-----------|--------|---------|-------|---------|-----------|"
      ],
      "text/plain": [
       "<IPython.core.display.Markdown object>"
      ]
     },
     "metadata": {},
     "output_type": "display_data"
    },
    {
     "name": "stdout",
     "output_type": "stream",
     "text": [
      "\n",
      "\n"
     ]
    }
   ],
   "source": [
    "cursor.execute(\"SELECT * FROM EMP WHERE basic = 0\")\n",
    "emp_rows = cursor.fetchall()\n",
    "print(\"\\nEMP Table:\")\n",
    "display_markdown(tabulate(emp_rows, headers=emp_columns, tablefmt=\"pipe\"))\n",
    "print(\"\\n\")"
   ]
  },
  {
   "cell_type": "code",
   "execution_count": 12,
   "id": "4198f082-913a-4f65-ada3-efff0882dd00",
   "metadata": {},
   "outputs": [
    {
     "name": "stdout",
     "output_type": "stream",
     "text": [
      "\n",
      "EMP Table:\n"
     ]
    },
    {
     "data": {
      "text/markdown": [
       "| emp_code   | emp_name   | dept_code   | desig_code   | sex   | address                        | city      | state       |    pin | basic   | JN_date    |\n",
       "|:-----------|:-----------|:------------|:-------------|:------|:-------------------------------|:----------|:------------|-------:|:--------|:-----------|\n",
       "| E012       | Saifee     |             | D001         | F     | 123, Bankura Road, Bankura     | Bankura   | West Bengal | 722101 |         | 1998-12-15 |\n",
       "| E013       | Sourav     |             | D002         | M     | 12/2, High Court Road, Birbhum | Birbhum   | West Bengal | 722102 |         | 1997-06-23 |\n",
       "| E014       | Binoy      |             | D003         | M     | 7, Baranganj  Road             | Sundarban | West Bengal | 722103 |         | 1995-11-05 |"
      ],
      "text/plain": [
       "<IPython.core.display.Markdown object>"
      ]
     },
     "metadata": {},
     "output_type": "display_data"
    },
    {
     "name": "stdout",
     "output_type": "stream",
     "text": [
      "\n",
      "\n"
     ]
    }
   ],
   "source": [
    "cursor.execute(\"SELECT * FROM EMP WHERE basic IS NULL\")\n",
    "emp_rows = cursor.fetchall()\n",
    "print(\"\\nEMP Table:\")\n",
    "display_markdown(tabulate(emp_rows, headers=emp_columns, tablefmt=\"pipe\"))\n",
    "print(\"\\n\")"
   ]
  },
  {
   "cell_type": "code",
   "execution_count": 13,
   "id": "d86c90c2-e30e-4ca1-936c-f088273b9bcb",
   "metadata": {},
   "outputs": [
    {
     "name": "stdout",
     "output_type": "stream",
     "text": [
      "\n",
      "EMP Table:\n"
     ]
    },
    {
     "data": {
      "text/markdown": [
       "|   average_basic |\n",
       "|----------------:|\n",
       "|         27909.1 |"
      ],
      "text/plain": [
       "<IPython.core.display.Markdown object>"
      ]
     },
     "metadata": {},
     "output_type": "display_data"
    },
    {
     "name": "stdout",
     "output_type": "stream",
     "text": [
      "\n",
      "\n"
     ]
    }
   ],
   "source": [
    "cursor.execute(\"SELECT avg(basic) as average_basic FROM EMP\")\n",
    "emp_rows = cursor.fetchall()\n",
    "print(\"\\nEMP Table:\")\n",
    "display_markdown(tabulate(emp_rows, headers=[\"average_basic\"], tablefmt=\"pipe\"))\n",
    "print(\"\\n\")"
   ]
  },
  {
   "cell_type": "code",
   "execution_count": 14,
   "id": "e3a47a75-b3ef-444a-a776-f7f7c135a6de",
   "metadata": {},
   "outputs": [
    {
     "name": "stdout",
     "output_type": "stream",
     "text": [
      "\n",
      "EMP Table:\n"
     ]
    },
    {
     "data": {
      "text/markdown": [
       "| emp_code   | emp_name   | dept_code   | desig_code   | sex   | address                        | city      | state       |    pin |   basic | JN_date    |\n",
       "|:-----------|:-----------|:------------|:-------------|:------|:-------------------------------|:----------|:------------|-------:|--------:|:-----------|\n",
       "| E001       | Swapna Moy | P001        | D001         | F     | 123, Park Street, Kolkata      | Kolkata   | West Bengal | 700001 |   35000 | 2023-01-15 |\n",
       "| E002       | Abhinandan | P002        | D002         | M     | 456, MG Road, Durgapur         | Durgapur  | West Bengal | 713201 |   25000 | 2023-02-20 |\n",
       "| E003       | Abrar      | P003        | D003         | M     | 789, Salt Lake, Kolkata        | Kolkata   | West Bengal | 700091 |   40000 | 2023-03-10 |\n",
       "| E004       | Shahir     | P004        | D004         | M     | 321, Rajarhat, Kolkata         | Kolkata   | West Bengal | 700135 |   22000 | 2023-04-05 |\n",
       "| E005       | Masud      | P005        | D005         | M     | 654, Howrah Bridge, Howrah     | Howrah    | West Bengal | 711101 |   18000 | 2023-05-30 |\n",
       "| E006       | Azim       | P001        | D001         | M     | 987, Dumdum, Kolkata           | Kolkata   | West Bengal | 700028 |   33000 | 2023-06-15 |\n",
       "| E007       | Soumyodeep | P002        | D002         | M     | 135, BBD Bagh, Kolkata         | Kolkata   | West Bengal | 700003 |   27000 | 2023-07-12 |\n",
       "| E008       | Sidhdhart  | P003        | D003         | M     | 864, Jadavpur, Kolkata         | Kolkata   | West Bengal | 700032 |   35000 | 2023-08-01 |\n",
       "| E009       | Akshat     | P004        | D004         | M     | 753, Sealdah, Kolkata          | Kolkata   | West Bengal | 700014 |   23000 | 2023-09-22 |\n",
       "| E010       | Jeetesh    | P005        | D005         | M     | 987, Newtown, Kolkata          | Kolkata   | West Bengal | 700135 |   20000 | 2023-10-17 |\n",
       "| E011       | Subham     | P001        | D002         | M     | 369, Ballygunge, Kolkata       | Kolkata   | West Bengal | 700019 |   29000 | 2023-11-05 |\n",
       "| E012       | Saifee     |             | D001         | F     | 123, Bankura Road, Bankura     | Bankura   | West Bengal | 722101 |       0 | 1998-12-15 |\n",
       "| E013       | Sourav     |             | D002         | M     | 12/2, High Court Road, Birbhum | Birbhum   | West Bengal | 722102 |       0 | 1997-06-23 |\n",
       "| E014       | Binoy      |             | D003         | M     | 7, Baranganj  Road             | Sundarban | West Bengal | 722103 |       0 | 1995-11-05 |"
      ],
      "text/plain": [
       "<IPython.core.display.Markdown object>"
      ]
     },
     "metadata": {},
     "output_type": "display_data"
    },
    {
     "name": "stdout",
     "output_type": "stream",
     "text": [
      "\n",
      "\n"
     ]
    }
   ],
   "source": [
    "cursor.execute(\"UPDATE emp SET basic = 0 WHERE basic IS NULL\")\n",
    "cursor.execute(\"SELECT * FROM EMP \")\n",
    "emp_rows = cursor.fetchall()\n",
    "print(\"\\nEMP Table:\")\n",
    "display_markdown(tabulate(emp_rows, headers=emp_columns, tablefmt=\"pipe\"))\n",
    "print(\"\\n\")"
   ]
  },
  {
   "cell_type": "code",
   "execution_count": 15,
   "id": "8e4312cc-08c8-4794-8199-65e9ecce88f1",
   "metadata": {},
   "outputs": [
    {
     "name": "stdout",
     "output_type": "stream",
     "text": [
      "\n",
      "EMP Table:\n"
     ]
    },
    {
     "data": {
      "text/markdown": [
       "|   average_basic |\n",
       "|----------------:|\n",
       "|         21928.6 |"
      ],
      "text/plain": [
       "<IPython.core.display.Markdown object>"
      ]
     },
     "metadata": {},
     "output_type": "display_data"
    },
    {
     "name": "stdout",
     "output_type": "stream",
     "text": [
      "\n",
      "\n"
     ]
    }
   ],
   "source": [
    "cursor.execute(\"SELECT AVG(basic) AS average_basic FROM emp\")\n",
    "emp_rows = cursor.fetchall()\n",
    "print(\"\\nEMP Table:\")\n",
    "display_markdown(tabulate(emp_rows, headers=[\"average_basic\"], tablefmt=\"pipe\"))\n",
    "print(\"\\n\")"
   ]
  },
  {
   "cell_type": "code",
   "execution_count": 16,
   "id": "165f41ce-5829-43d9-b298-9ef19b94657a",
   "metadata": {},
   "outputs": [
    {
     "name": "stdout",
     "output_type": "stream",
     "text": [
      "\n",
      "EMP Table:\n"
     ]
    },
    {
     "data": {
      "text/markdown": [
       "| emp_code   | emp_name   | dept_code   | desig_code   | sex   | address                    | city     | state       |    pin |   basic | JN_date    |\n",
       "|:-----------|:-----------|:------------|:-------------|:------|:---------------------------|:---------|:------------|-------:|--------:|:-----------|\n",
       "| E001       | Swapna Moy | P001        | D001         | F     | 123, Park Street, Kolkata  | Kolkata  | West Bengal | 700001 |   35000 | 2023-01-15 |\n",
       "| E002       | Abhinandan | P002        | D002         | M     | 456, MG Road, Durgapur     | Durgapur | West Bengal | 713201 |   25000 | 2023-02-20 |\n",
       "| E003       | Abrar      | P003        | D003         | M     | 789, Salt Lake, Kolkata    | Kolkata  | West Bengal | 700091 |   40000 | 2023-03-10 |\n",
       "| E004       | Shahir     | P004        | D004         | M     | 321, Rajarhat, Kolkata     | Kolkata  | West Bengal | 700135 |   22000 | 2023-04-05 |\n",
       "| E005       | Masud      | P005        | D005         | M     | 654, Howrah Bridge, Howrah | Howrah   | West Bengal | 711101 |   18000 | 2023-05-30 |\n",
       "| E006       | Azim       | P001        | D001         | M     | 987, Dumdum, Kolkata       | Kolkata  | West Bengal | 700028 |   33000 | 2023-06-15 |\n",
       "| E007       | Soumyodeep | P002        | D002         | M     | 135, BBD Bagh, Kolkata     | Kolkata  | West Bengal | 700003 |   27000 | 2023-07-12 |\n",
       "| E008       | Sidhdhart  | P003        | D003         | M     | 864, Jadavpur, Kolkata     | Kolkata  | West Bengal | 700032 |   35000 | 2023-08-01 |\n",
       "| E009       | Akshat     | P004        | D004         | M     | 753, Sealdah, Kolkata      | Kolkata  | West Bengal | 700014 |   23000 | 2023-09-22 |\n",
       "| E010       | Jeetesh    | P005        | D005         | M     | 987, Newtown, Kolkata      | Kolkata  | West Bengal | 700135 |   20000 | 2023-10-17 |\n",
       "| E011       | Subham     | P001        | D002         | M     | 369, Ballygunge, Kolkata   | Kolkata  | West Bengal | 700019 |   29000 | 2023-11-05 |"
      ],
      "text/plain": [
       "<IPython.core.display.Markdown object>"
      ]
     },
     "metadata": {},
     "output_type": "display_data"
    },
    {
     "name": "stdout",
     "output_type": "stream",
     "text": [
      "\n",
      "\n"
     ]
    }
   ],
   "source": [
    "cursor.execute(\"DELETE FROM emp WHERE dept_code IS NULL\")\n",
    "cursor.execute(\"SELECT * FROM EMP\")\n",
    "emp_rows = cursor.fetchall()\n",
    "print(\"\\nEMP Table:\")\n",
    "display_markdown(tabulate(emp_rows, headers=emp_columns, tablefmt=\"pipe\"))\n",
    "print(\"\\n\")"
   ]
  },
  {
   "cell_type": "code",
   "execution_count": 17,
   "id": "a7336788-3ba8-45fe-9468-e277d48b3490",
   "metadata": {},
   "outputs": [
    {
     "name": "stdout",
     "output_type": "stream",
     "text": [
      "\n",
      "EMP Table:\n"
     ]
    },
    {
     "data": {
      "text/markdown": [
       "| Emp_Name   |   Net_Pay |\n",
       "|:-----------|----------:|\n",
       "| Swapna Moy |     66500 |\n",
       "| Abhinandan |     47500 |\n",
       "| Abrar      |     76000 |\n",
       "| Shahir     |     41800 |\n",
       "| Masud      |     34200 |\n",
       "| Azim       |     62700 |\n",
       "| Soumyodeep |     51300 |\n",
       "| Sidhdhart  |     66500 |\n",
       "| Akshat     |     43700 |\n",
       "| Jeetesh    |     38000 |\n",
       "| Subham     |     55100 |"
      ],
      "text/plain": [
       "<IPython.core.display.Markdown object>"
      ]
     },
     "metadata": {},
     "output_type": "display_data"
    },
    {
     "name": "stdout",
     "output_type": "stream",
     "text": [
      "\n",
      "\n"
     ]
    }
   ],
   "source": [
    "cursor.execute(\"SELECT emp_name, (basic + basic*0.5 + basic*0.4) AS Net_pay FROM emp\")\n",
    "net_pay_rows = cursor.fetchall()\n",
    "print(\"\\nEMP Table:\")\n",
    "display_markdown(tabulate(net_pay_rows, headers=[\"Emp_Name\",\"Net_Pay\"], tablefmt=\"pipe\"))\n",
    "print(\"\\n\")"
   ]
  },
  {
   "cell_type": "code",
   "execution_count": 18,
   "id": "fe29864e-33fa-40b8-b773-277fea7f62c0",
   "metadata": {},
   "outputs": [
    {
     "name": "stdout",
     "output_type": "stream",
     "text": [
      "\n",
      "EMP Table:\n"
     ]
    },
    {
     "data": {
      "text/markdown": [
       "| Emp_Name   |   BAsic | dept_code   |\n",
       "|:-----------|--------:|:------------|\n",
       "| SWAPNA MOY |   35000 | P001        |\n",
       "| AZIM       |   33000 | P001        |\n",
       "| SUBHAM     |   29000 | P001        |\n",
       "| ABHINANDAN |   25000 | P002        |\n",
       "| SOUMYODEEP |   27000 | P002        |\n",
       "| ABRAR      |   40000 | P003        |\n",
       "| SIDHDHART  |   35000 | P003        |\n",
       "| SHAHIR     |   22000 | P004        |\n",
       "| AKSHAT     |   23000 | P004        |\n",
       "| MASUD      |   18000 | P005        |\n",
       "| JEETESH    |   20000 | P005        |"
      ],
      "text/plain": [
       "<IPython.core.display.Markdown object>"
      ]
     },
     "metadata": {},
     "output_type": "display_data"
    },
    {
     "name": "stdout",
     "output_type": "stream",
     "text": [
      "\n",
      "\n"
     ]
    }
   ],
   "source": [
    "cursor.execute(\"SELECT UPPER(emp_name), basic,dept_code FROM emp ORDER BY dept_code\")\n",
    "rows = cursor.fetchall()\n",
    "print(\"\\nEMP Table:\")\n",
    "display_markdown(tabulate(rows, headers=[\"Emp_Name\",\"BAsic\",\"dept_code\"], tablefmt=\"pipe\"))\n",
    "print(\"\\n\")"
   ]
  },
  {
   "cell_type": "code",
   "execution_count": 19,
   "id": "5a07bb03-3af9-4896-a1c3-31ff5327b45e",
   "metadata": {},
   "outputs": [
    {
     "name": "stdout",
     "output_type": "stream",
     "text": [
      "\n",
      "EMP Table:\n"
     ]
    },
    {
     "data": {
      "text/markdown": [
       "| emp_code   | emp_name   | dept_code   | desig_code   | sex   | address                    | city     | state       |    pin |   basic | JN_date    |\n",
       "|:-----------|:-----------|:------------|:-------------|:------|:---------------------------|:---------|:------------|-------:|--------:|:-----------|\n",
       "| E001       | Swapna Moy | P001        | D001         | F     | 123, Park Street, Kolkata  | Kolkata  | West Bengal | 700001 |   35000 | 2023-01-15 |\n",
       "| E002       | Abhinandan | P002        | D002         | M     | 456, MG Road, Durgapur     | Durgapur | West Bengal | 713201 |   25000 | 2023-02-20 |\n",
       "| E003       | Abrar      | P003        | D003         | M     | 789, Salt Lake, Kolkata    | Kolkata  | West Bengal | 700091 |   40000 | 2023-03-10 |\n",
       "| E004       | Shahir     | P004        | D004         | M     | 321, Rajarhat, Kolkata     | Kolkata  | West Bengal | 700135 |   22000 | 2023-04-05 |\n",
       "| E005       | Masud      | P005        | D005         | M     | 654, Howrah Bridge, Howrah | Howrah   | West Bengal | 711101 |   18000 | 2023-05-30 |\n",
       "| E006       | Azim       | P001        | D001         | M     | 987, Dumdum, Kolkata       | Kolkata  | West Bengal | 700028 |   33000 | 2023-06-15 |\n",
       "| E007       | Soumyodeep | P002        | D002         | M     | 135, BBD Bagh, Kolkata     | Kolkata  | West Bengal | 700003 |   27000 | 2023-07-12 |\n",
       "| E008       | Sidhdhart  | P003        | D003         | M     | 864, Jadavpur, Kolkata     | Kolkata  | West Bengal | 700032 |   35000 | 2023-08-01 |\n",
       "| E009       | Akshat     | P004        | D004         | M     | 753, Sealdah, Kolkata      | Kolkata  | West Bengal | 700014 |   23000 | 2023-09-22 |\n",
       "| E010       | Jeetesh    | P005        | D005         | M     | 987, Newtown, Kolkata      | Kolkata  | West Bengal | 700135 |   20000 | 2023-10-17 |\n",
       "| E011       | Subham     | P001        | D002         | M     | 369, Ballygunge, Kolkata   | Kolkata  | West Bengal | 700019 |   29000 | 2023-11-05 |"
      ],
      "text/plain": [
       "<IPython.core.display.Markdown object>"
      ]
     },
     "metadata": {},
     "output_type": "display_data"
    },
    {
     "name": "stdout",
     "output_type": "stream",
     "text": [
      "\n",
      "\n"
     ]
    }
   ],
   "source": [
    "cursor.execute(\"SELECT * FROM emp WHERE JN_date > '1990-01-01'\")\n",
    "rows = cursor.fetchall()\n",
    "print(\"\\nEMP Table:\")\n",
    "display_markdown(tabulate(rows, headers=emp_columns, tablefmt=\"pipe\"))\n",
    "print(\"\\n\")"
   ]
  },
  {
   "cell_type": "code",
   "execution_count": 20,
   "id": "3f01aee0-bc0d-4184-8a81-ba3923b9284b",
   "metadata": {},
   "outputs": [
    {
     "name": "stdout",
     "output_type": "stream",
     "text": [
      "\n",
      "EMP Table:\n"
     ]
    },
    {
     "data": {
      "text/markdown": [
       "| emp_code   | emp_name   | dept_code   | desig_code   | sex   | address                   | city    | state       |    pin |   basic | JN_date    |\n",
       "|:-----------|:-----------|:------------|:-------------|:------|:--------------------------|:--------|:------------|-------:|--------:|:-----------|\n",
       "| E001       | Swapna Moy | P001        | D001         | F     | 123, Park Street, Kolkata | Kolkata | West Bengal | 700001 |   35000 | 2023-01-15 |"
      ],
      "text/plain": [
       "<IPython.core.display.Markdown object>"
      ]
     },
     "metadata": {},
     "output_type": "display_data"
    },
    {
     "name": "stdout",
     "output_type": "stream",
     "text": [
      "\n",
      "\n"
     ]
    }
   ],
   "source": [
    "cursor.execute(\"SELECT * FROM emp WHERE strftime('%m', JN_date) = '01'\")\n",
    "rows = cursor.fetchall()\n",
    "print(\"\\nEMP Table:\")\n",
    "display_markdown(tabulate(rows, headers=emp_columns, tablefmt=\"pipe\"))\n",
    "print(\"\\n\")"
   ]
  },
  {
   "cell_type": "code",
   "execution_count": 21,
   "id": "8281e0d2-9f36-4531-91dd-e902da760311",
   "metadata": {},
   "outputs": [
    {
     "name": "stdout",
     "output_type": "stream",
     "text": [
      "\n",
      "EMP Table:\n"
     ]
    },
    {
     "data": {
      "text/markdown": [
       "|   max_basic |   min_basic |\n",
       "|------------:|------------:|\n",
       "|       40000 |       18000 |"
      ],
      "text/plain": [
       "<IPython.core.display.Markdown object>"
      ]
     },
     "metadata": {},
     "output_type": "display_data"
    },
    {
     "name": "stdout",
     "output_type": "stream",
     "text": [
      "\n",
      "\n"
     ]
    }
   ],
   "source": [
    "cursor.execute(\"SELECT MAX(basic), MIN(basic) FROM emp\")\n",
    "rows = cursor.fetchall()\n",
    "print(\"\\nEMP Table:\")\n",
    "display_markdown(tabulate(rows, headers=[\"max_basic\",\"min_basic\"], tablefmt=\"pipe\"))\n",
    "print(\"\\n\")"
   ]
  },
  {
   "cell_type": "code",
   "execution_count": 22,
   "id": "02c28a10-afba-42c6-9adf-9a46cd387ff4",
   "metadata": {},
   "outputs": [
    {
     "name": "stdout",
     "output_type": "stream",
     "text": [
      "\n",
      "EMP Table:\n"
     ]
    },
    {
     "data": {
      "text/markdown": [
       "| emp_code   | emp_name   | dept_code   | desig_code   | sex   | address                   | city    | state       |    pin |   basic | JN_date    |\n",
       "|:-----------|:-----------|:------------|:-------------|:------|:--------------------------|:--------|:------------|-------:|--------:|:-----------|\n",
       "| E001       | Swapna Moy | P001        | D001         | F     | 123, Park Street, Kolkata | Kolkata | West Bengal | 700001 |   35000 | 2023-01-15 |"
      ],
      "text/plain": [
       "<IPython.core.display.Markdown object>"
      ]
     },
     "metadata": {},
     "output_type": "display_data"
    },
    {
     "name": "stdout",
     "output_type": "stream",
     "text": [
      "\n",
      "\n"
     ]
    }
   ],
   "source": [
    "cursor.execute(\"SELECT * FROM emp WHERE sex = 'F'\")\n",
    "rows = cursor.fetchall()\n",
    "print(\"\\nEMP Table:\")\n",
    "display_markdown(tabulate(rows, headers=emp_columns, tablefmt=\"pipe\"))\n",
    "print(\"\\n\")"
   ]
  },
  {
   "cell_type": "code",
   "execution_count": 24,
   "id": "626b0605-e1f4-4853-956a-b6e58d2f375a",
   "metadata": {},
   "outputs": [
    {
     "name": "stdout",
     "output_type": "stream",
     "text": [
      "\n",
      "EMP Table:\n"
     ]
    },
    {
     "data": {
      "text/markdown": [
       "| emp_code   | emp_name   | dept_code   | desig_code   | sex   | address                    | city     | state       |    pin |   basic | JN_date    |\n",
       "|:-----------|:-----------|:------------|:-------------|:------|:---------------------------|:---------|:------------|-------:|--------:|:-----------|\n",
       "| E001       | Swapna Moy | P001        | D001         | F     | 123, Park Street, Kolkata  | KOLKATA  | West Bengal | 700001 |   35000 | 2023-01-15 |\n",
       "| E002       | Abhinandan | P002        | D002         | M     | 456, MG Road, Durgapur     | DURGAPUR | West Bengal | 713201 |   25000 | 2023-02-20 |\n",
       "| E003       | Abrar      | P003        | D003         | M     | 789, Salt Lake, Kolkata    | KOLKATA  | West Bengal | 700091 |   40000 | 2023-03-10 |\n",
       "| E004       | Shahir     | P004        | D004         | M     | 321, Rajarhat, Kolkata     | KOLKATA  | West Bengal | 700135 |   22000 | 2023-04-05 |\n",
       "| E005       | Masud      | P005        | D005         | M     | 654, Howrah Bridge, Howrah | HOWRAH   | West Bengal | 711101 |   18000 | 2023-05-30 |\n",
       "| E006       | Azim       | P001        | D001         | M     | 987, Dumdum, Kolkata       | KOLKATA  | West Bengal | 700028 |   33000 | 2023-06-15 |\n",
       "| E007       | Soumyodeep | P002        | D002         | M     | 135, BBD Bagh, Kolkata     | KOLKATA  | West Bengal | 700003 |   27000 | 2023-07-12 |\n",
       "| E008       | Sidhdhart  | P003        | D003         | M     | 864, Jadavpur, Kolkata     | KOLKATA  | West Bengal | 700032 |   35000 | 2023-08-01 |\n",
       "| E009       | Akshat     | P004        | D004         | M     | 753, Sealdah, Kolkata      | KOLKATA  | West Bengal | 700014 |   23000 | 2023-09-22 |\n",
       "| E010       | Jeetesh    | P005        | D005         | M     | 987, Newtown, Kolkata      | KOLKATA  | West Bengal | 700135 |   20000 | 2023-10-17 |\n",
       "| E011       | Subham     | P001        | D002         | M     | 369, Ballygunge, Kolkata   | KOLKATA  | West Bengal | 700019 |   29000 | 2023-11-05 |"
      ],
      "text/plain": [
       "<IPython.core.display.Markdown object>"
      ]
     },
     "metadata": {},
     "output_type": "display_data"
    },
    {
     "name": "stdout",
     "output_type": "stream",
     "text": [
      "\n",
      "\n"
     ]
    }
   ],
   "source": [
    "cursor.execute(\"UPDATE emp SET city = UPPER(city)\")\n",
    "cursor.execute(\"SELECT * FROM emp\")\n",
    "rows = cursor.fetchall()\n",
    "print(\"\\nEMP Table:\")\n",
    "display_markdown(tabulate(rows, headers=emp_columns, tablefmt=\"pipe\"))\n",
    "print(\"\\n\")"
   ]
  },
  {
   "cell_type": "code",
   "execution_count": 25,
   "id": "61c96838-88dc-4105-9879-6abb58fc2170",
   "metadata": {},
   "outputs": [
    {
     "name": "stdout",
     "output_type": "stream",
     "text": [
      "\n",
      "EMP Table:\n"
     ]
    },
    {
     "data": {
      "text/markdown": [
       "| cities   |\n",
       "|:---------|\n",
       "| KOLKATA  |\n",
       "| DURGAPUR |\n",
       "| HOWRAH   |"
      ],
      "text/plain": [
       "<IPython.core.display.Markdown object>"
      ]
     },
     "metadata": {},
     "output_type": "display_data"
    },
    {
     "name": "stdout",
     "output_type": "stream",
     "text": [
      "\n",
      "\n"
     ]
    }
   ],
   "source": [
    "cursor.execute(\"SELECT DISTINCT city FROM emp\")\n",
    "rows = cursor.fetchall()\n",
    "print(\"\\nEMP Table:\")\n",
    "display_markdown(tabulate(rows, headers=[\"cities\"], tablefmt=\"pipe\"))\n",
    "print(\"\\n\")"
   ]
  },
  {
   "cell_type": "code",
   "execution_count": 26,
   "id": "1d2f78d7-c570-4eac-b008-2315ed2769da",
   "metadata": {},
   "outputs": [
    {
     "name": "stdout",
     "output_type": "stream",
     "text": [
      "\n",
      "EMP Table:\n"
     ]
    },
    {
     "data": {
      "text/markdown": [
       "| emp_code   | emp_name   | dept_code   | desig_code   | sex   | address                    | city     | state       |    pin |   basic | JN_date    |\n",
       "|:-----------|:-----------|:------------|:-------------|:------|:---------------------------|:---------|:------------|-------:|--------:|:-----------|\n",
       "| E001       | Swapna Moy | P001        | D001         | F     | 123, Park Street, Kolkata  | KOLKATA  | West Bengal | 700001 |   35000 | 2023-01-15 |\n",
       "| E006       | Azim       | P001        | D001         | M     | 987, Dumdum, Kolkata       | KOLKATA  | West Bengal | 700028 |   33000 | 2023-06-15 |\n",
       "| E011       | Subham     | P001        | D002         | M     | 369, Ballygunge, Kolkata   | KOLKATA  | West Bengal | 700019 |   29000 | 2023-11-05 |\n",
       "| E007       | Soumyodeep | P002        | D002         | M     | 135, BBD Bagh, Kolkata     | KOLKATA  | West Bengal | 700003 |   27000 | 2023-07-12 |\n",
       "| E002       | Abhinandan | P002        | D002         | M     | 456, MG Road, Durgapur     | DURGAPUR | West Bengal | 713201 |   25000 | 2023-02-20 |\n",
       "| E003       | Abrar      | P003        | D003         | M     | 789, Salt Lake, Kolkata    | KOLKATA  | West Bengal | 700091 |   40000 | 2023-03-10 |\n",
       "| E008       | Sidhdhart  | P003        | D003         | M     | 864, Jadavpur, Kolkata     | KOLKATA  | West Bengal | 700032 |   35000 | 2023-08-01 |\n",
       "| E009       | Akshat     | P004        | D004         | M     | 753, Sealdah, Kolkata      | KOLKATA  | West Bengal | 700014 |   23000 | 2023-09-22 |\n",
       "| E004       | Shahir     | P004        | D004         | M     | 321, Rajarhat, Kolkata     | KOLKATA  | West Bengal | 700135 |   22000 | 2023-04-05 |\n",
       "| E010       | Jeetesh    | P005        | D005         | M     | 987, Newtown, Kolkata      | KOLKATA  | West Bengal | 700135 |   20000 | 2023-10-17 |\n",
       "| E005       | Masud      | P005        | D005         | M     | 654, Howrah Bridge, Howrah | HOWRAH   | West Bengal | 711101 |   18000 | 2023-05-30 |"
      ],
      "text/plain": [
       "<IPython.core.display.Markdown object>"
      ]
     },
     "metadata": {},
     "output_type": "display_data"
    },
    {
     "name": "stdout",
     "output_type": "stream",
     "text": [
      "\n",
      "\n"
     ]
    }
   ],
   "source": [
    "cursor.execute(\"SELECT * FROM emp ORDER BY dept_code, basic DESC\")\n",
    "rows = cursor.fetchall()\n",
    "print(\"\\nEMP Table:\")\n",
    "display_markdown(tabulate(rows, headers=emp_columns, tablefmt=\"pipe\"))\n",
    "print(\"\\n\")"
   ]
  }
 ],
 "metadata": {
  "kernelspec": {
   "display_name": "Python 3 (ipykernel)",
   "language": "python",
   "name": "python3"
  },
  "language_info": {
   "codemirror_mode": {
    "name": "ipython",
    "version": 3
   },
   "file_extension": ".py",
   "mimetype": "text/x-python",
   "name": "python",
   "nbconvert_exporter": "python",
   "pygments_lexer": "ipython3",
   "version": "3.13.2"
  }
 },
 "nbformat": 4,
 "nbformat_minor": 5
}
