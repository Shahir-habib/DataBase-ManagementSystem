{
 "cells": [
  {
   "cell_type": "code",
   "execution_count": 1,
   "id": "7187b0e1-6e4b-4738-8c49-c59ee6c6b6d4",
   "metadata": {},
   "outputs": [],
   "source": [
    "import sqlite3\n",
    "import os\n",
    "from IPython.display import display, Markdown\n",
    "from tabulate import tabulate\n",
    "# Function to display markdown text\n",
    "def display_markdown(text):\n",
    "    display(Markdown(text))\n",
    "# Set the path to the database file inside the 'data' folder\n",
    "db_path = os.path.join('..', 'data', 'Employeedetails.db')\n",
    "\n",
    "# Set up the database connection\n",
    "conn = sqlite3.connect('Employeedetails.db')\n",
    "cursor = conn.cursor()"
   ]
  },
  {
   "cell_type": "code",
   "execution_count": 2,
   "id": "7d38bc67-1ab1-4ecd-a000-d885adc6faeb",
   "metadata": {},
   "outputs": [
    {
     "name": "stdout",
     "output_type": "stream",
     "text": [
      "\n",
      "EMP Table:\n"
     ]
    },
    {
     "data": {
      "text/markdown": [
       "| emp_code   | emp_name   | dept_code   | desig_code   | sex   | address                        | city      | state       |    pin |   basic | JN_date    |\n",
       "|:-----------|:-----------|:------------|:-------------|:------|:-------------------------------|:----------|:------------|-------:|--------:|:-----------|\n",
       "| E001       | Swapna Moy | P001        | D001         | F     | 123, Park Street, Kolkata      | Kolkata   | West Bengal | 700001 |   35000 | 2023-01-15 |\n",
       "| E002       | Abhinandan | P002        | D002         | M     | 456, MG Road, Durgapur         | Durgapur  | West Bengal | 713201 |   25000 | 2023-02-20 |\n",
       "| E003       | Abrar      | P003        | D003         | M     | 789, Salt Lake, Kolkata        | Kolkata   | West Bengal | 700091 |   40000 | 2023-03-10 |\n",
       "| E004       | Shahir     | P004        | D004         | M     | 321, Rajarhat, Kolkata         | Kolkata   | West Bengal | 700135 |   22000 | 2023-04-05 |\n",
       "| E005       | Masud      | P005        | D005         | M     | 654, Howrah Bridge, Howrah     | Howrah    | West Bengal | 711101 |   18000 | 2023-05-30 |\n",
       "| E006       | Azim       | P001        | D001         | M     | 987, Dumdum, Kolkata           | Kolkata   | West Bengal | 700028 |   33000 | 2023-06-15 |\n",
       "| E007       | Soumyodeep | P002        | D002         | M     | 135, BBD Bagh, Kolkata         | Kolkata   | West Bengal | 700003 |   27000 | 2023-07-12 |\n",
       "| E008       | Sidhdhart  | P003        | D003         | M     | 864, Jadavpur, Kolkata         | Kolkata   | West Bengal | 700032 |   35000 | 2023-08-01 |\n",
       "| E009       | Akshat     | P004        | D004         | M     | 753, Sealdah, Kolkata          | Kolkata   | West Bengal | 700014 |   23000 | 2023-09-22 |\n",
       "| E010       | Jeetesh    | P005        | D005         | M     | 987, Newtown, Kolkata          | Kolkata   | West Bengal | 700135 |   20000 | 2023-10-17 |\n",
       "| E011       | Subham     | P001        | D002         | M     | 369, Ballygunge, Kolkata       | Kolkata   | West Bengal | 700019 |   29000 | 2023-11-05 |\n",
       "| E015       | Saifee     | P003        | D001         | F     | 123, Bankura Road, Bankura     | Bankura   | West Bengal | 722101 |   40000 | 2000-12-15 |\n",
       "| E016       | Sourav     | P004        | D002         | F     | 12/2, High Court Road, Birbhum | Birbhum   | West Bengal | 722102 |   50000 | 1990-06-23 |\n",
       "| E017       | Binoy      | P005        | D003         | F     | 7, Baranganj  Road             | Sundarban | West Bengal | 722103 |   42000 | 2000-11-05 |"
      ],
      "text/plain": [
       "<IPython.core.display.Markdown object>"
      ]
     },
     "metadata": {},
     "output_type": "display_data"
    },
    {
     "name": "stdout",
     "output_type": "stream",
     "text": [
      "\n",
      "\n"
     ]
    }
   ],
   "source": [
    "emp_columns = [\"\"\"emp_code\"\"\", \"\"\"emp_name\"\"\", \"\"\"dept_code\"\"\", \"\"\"desig_code\"\"\", \"\"\"sex\"\"\", \"\"\"address\"\"\", \"\"\"city\"\"\", \"\"\"state\"\"\", \"\"\"pin\"\"\", \"\"\"basic\"\"\", \"\"\"JN_date\"\"\"]\n",
    "department_columns = [\"\"\"dept_code\"\"\", \"\"\"dept_name\"\"\"]\n",
    "designation_columns = [\"\"\"desig_code\"\"\", \"\"\"desig_name\"\"\"]\n",
    "\n",
    "cursor.execute(\"\"\"DELETE FROM emp WHERE dept_code IS NULL\"\"\")\n",
    "cursor.execute(\"\"\"SELECT * FROM EMP\"\"\")\n",
    "emp_rows = cursor.fetchall()\n",
    "print(\"\"\"\\nEMP Table:\"\"\")\n",
    "display_markdown(tabulate(emp_rows, headers=emp_columns, tablefmt=\"\"\"pipe\"\"\"))\n",
    "print(\"\"\"\\n\"\"\")\n"
   ]
  },
  {
   "cell_type": "markdown",
   "id": "2b5d30b5-6214-49ae-b8b4-a98e887eab66",
   "metadata": {},
   "source": [
    "### Added some more data to perform following queries"
   ]
  },
  {
   "cell_type": "code",
   "execution_count": 5,
   "id": "d3b2d49a-7f34-4d31-b993-5a9f4cfa2031",
   "metadata": {},
   "outputs": [
    {
     "name": "stdout",
     "output_type": "stream",
     "text": [
      "\n",
      "EMP Table:\n"
     ]
    },
    {
     "data": {
      "text/markdown": [
       "| dept_code   |   min_basic |   max_Basic |   avg_Basic |\n",
       "|:------------|------------:|------------:|------------:|\n",
       "| P001        |       29000 |       35000 |     32333.3 |\n",
       "| P002        |       25000 |       27000 |     26000   |\n",
       "| P003        |       35000 |       40000 |     38333.3 |\n",
       "| P004        |       22000 |       50000 |     31666.7 |\n",
       "| P005        |       18000 |       42000 |     26666.7 |"
      ],
      "text/plain": [
       "<IPython.core.display.Markdown object>"
      ]
     },
     "metadata": {},
     "output_type": "display_data"
    },
    {
     "name": "stdout",
     "output_type": "stream",
     "text": [
      "\n",
      "\n"
     ]
    }
   ],
   "source": [
    "cursor.execute(\"\"\"SELECT dept_code, min(basic),max(basic),avg(basic) from EMP group by dept_code \"\"\")\n",
    "emp_rows = cursor.fetchall()\n",
    "print(\"\"\"\\nEMP Table:\"\"\")\n",
    "display_markdown(tabulate(emp_rows, headers=[\"\"\"dept_code\"\"\",\"\"\"min_basic\"\"\",\"\"\"max_Basic\"\"\",\"\"\"avg_Basic\"\"\"], tablefmt=\"\"\"pipe\"\"\"))\n",
    "print(\"\"\"\\n\"\"\")"
   ]
  },
  {
   "cell_type": "code",
   "execution_count": 12,
   "id": "d53ea4bd-d54c-4ee8-a84c-4bb5726d7b43",
   "metadata": {},
   "outputs": [
    {
     "name": "stdout",
     "output_type": "stream",
     "text": [
      "\n",
      "EMP Table:\n"
     ]
    },
    {
     "data": {
      "text/markdown": [
       "| dept_code   |   no_of_female_employee |\n",
       "|:------------|------------------------:|\n",
       "| P001        |                       1 |\n",
       "| P003        |                       1 |\n",
       "| P004        |                       1 |\n",
       "| P005        |                       1 |"
      ],
      "text/plain": [
       "<IPython.core.display.Markdown object>"
      ]
     },
     "metadata": {},
     "output_type": "display_data"
    },
    {
     "name": "stdout",
     "output_type": "stream",
     "text": [
      "\n",
      "\n"
     ]
    }
   ],
   "source": [
    "cursor.execute(\"\"\"SELECT dept_code,count(*) from EMP where sex = 'F' group by dept_code \"\"\")\n",
    "emp_rows = cursor.fetchall()\n",
    "print(\"\"\"\\nEMP Table:\"\"\")\n",
    "display_markdown(tabulate(emp_rows, headers=[\"\"\"dept_code\"\"\",\"\"\"no_of_female_employee\"\"\"], tablefmt=\"\"\"pipe\"\"\"))\n",
    "print(\"\"\"\\n\"\"\")"
   ]
  },
  {
   "cell_type": "code",
   "execution_count": 11,
   "id": "c54a5c7b-eaf8-475d-9903-2e439b3f7ee7",
   "metadata": {},
   "outputs": [
    {
     "name": "stdout",
     "output_type": "stream",
     "text": [
      "\n",
      "EMP Table:\n"
     ]
    },
    {
     "data": {
      "text/markdown": [
       "| dept_code   | city      |   no_of_employee |\n",
       "|:------------|:----------|-----------------:|\n",
       "| P001        | Kolkata   |                3 |\n",
       "| P002        | Durgapur  |                1 |\n",
       "| P002        | Kolkata   |                1 |\n",
       "| P003        | Bankura   |                1 |\n",
       "| P003        | Kolkata   |                2 |\n",
       "| P004        | Birbhum   |                1 |\n",
       "| P004        | Kolkata   |                2 |\n",
       "| P005        | Howrah    |                1 |\n",
       "| P005        | Kolkata   |                1 |\n",
       "| P005        | Sundarban |                1 |"
      ],
      "text/plain": [
       "<IPython.core.display.Markdown object>"
      ]
     },
     "metadata": {},
     "output_type": "display_data"
    },
    {
     "name": "stdout",
     "output_type": "stream",
     "text": [
      "\n",
      "\n"
     ]
    }
   ],
   "source": [
    "cursor.execute(\"\"\"SELECT dept_code,city,count(*) from EMP group by dept_code,city \"\"\")\n",
    "emp_rows = cursor.fetchall()\n",
    "print(\"\"\"\\nEMP Table:\"\"\")\n",
    "display_markdown(tabulate(emp_rows, headers=[\"\"\"dept_code\"\"\",\"\"\"city\"\"\",\"\"\"no_of_employee\"\"\"], tablefmt=\"\"\"pipe\"\"\"))\n",
    "print(\"\"\"\\n\"\"\")"
   ]
  },
  {
   "cell_type": "code",
   "execution_count": 6,
   "id": "495dec35-b5f3-4991-a1be-9ec269c81071",
   "metadata": {},
   "outputs": [
    {
     "name": "stdout",
     "output_type": "stream",
     "text": [
      "\n",
      "EMP Table:\n"
     ]
    },
    {
     "data": {
      "text/markdown": [
       "| dept_code   | designation   |   no_of_employee |\n",
       "|:------------|:--------------|-----------------:|\n",
       "| P001        | D002          |                1 |\n",
       "| P001        | D001          |                2 |\n",
       "| P002        | D002          |                2 |\n",
       "| P003        | D003          |                2 |\n",
       "| P004        | D004          |                2 |\n",
       "| P005        | D005          |                2 |"
      ],
      "text/plain": [
       "<IPython.core.display.Markdown object>"
      ]
     },
     "metadata": {},
     "output_type": "display_data"
    },
    {
     "name": "stdout",
     "output_type": "stream",
     "text": [
      "\n",
      "\n"
     ]
    }
   ],
   "source": [
    "cursor.execute(\"\"\"SELECT dept_code,desig_code,count(*) as noe from EMP where strftime('%Y', JN_date) ='2023'\n",
    "                    group by dept_code,desig_code order by noe \"\"\")\n",
    "emp_rows = cursor.fetchall()\n",
    "print(\"\"\"\\nEMP Table:\"\"\")\n",
    "display_markdown(tabulate(emp_rows, headers=[\"\"\"dept_code\"\"\",\"\"\"designation\"\"\",\"\"\"no_of_employee\"\"\"], tablefmt=\"\"\"pipe\"\"\"))\n",
    "print(\"\"\"\\n\"\"\")"
   ]
  },
  {
   "cell_type": "code",
   "execution_count": 7,
   "id": "51871cc7-88fb-4e97-a91f-998a60037245",
   "metadata": {},
   "outputs": [
    {
     "name": "stdout",
     "output_type": "stream",
     "text": [
      "\n",
      "EMP Table:\n"
     ]
    },
    {
     "data": {
      "text/markdown": [
       "| dept_code   |   total_Basic |\n",
       "|:------------|--------------:|\n",
       "| P003        |         75000 |\n",
       "| P001        |         62000 |\n",
       "| P002        |         52000 |"
      ],
      "text/plain": [
       "<IPython.core.display.Markdown object>"
      ]
     },
     "metadata": {},
     "output_type": "display_data"
    },
    {
     "name": "stdout",
     "output_type": "stream",
     "text": [
      "\n",
      "\n"
     ]
    }
   ],
   "source": [
    "cursor.execute(\"\"\"SELECT dept_code,sum(basic) as total from EMP where sex = 'M' group by dept_code \n",
    "                    having total>=50000 order by total desc \"\"\")\n",
    "emp_rows = cursor.fetchall()\n",
    "print(\"\"\"\\nEMP Table:\"\"\")\n",
    "display_markdown(tabulate(emp_rows, headers=[\"\"\"dept_code\"\"\",\"\"\"total_Basic\"\"\"], tablefmt=\"\"\"pipe\"\"\"))\n",
    "print(\"\"\"\\n\"\"\")"
   ]
  },
  {
   "cell_type": "code",
   "execution_count": 12,
   "id": "87779ec7-f11e-438a-bcef-b2e0b7cda8c9",
   "metadata": {},
   "outputs": [
    {
     "name": "stdout",
     "output_type": "stream",
     "text": [
      "\n",
      "EMP Table:\n"
     ]
    },
    {
     "data": {
      "text/markdown": [
       "| emp_name   | designation_description   |   basic |\n",
       "|:-----------|:--------------------------|--------:|\n",
       "| Swapna Moy | Manager                   |   35000 |\n",
       "| Abhinandan | Executive                 |   25000 |\n",
       "| Abrar      | Officer                   |   40000 |\n",
       "| Shahir     | Clerk                     |   22000 |\n",
       "| Masud      | Helper                    |   18000 |\n",
       "| Azim       | Manager                   |   33000 |\n",
       "| Soumyodeep | Executive                 |   27000 |\n",
       "| Sidhdhart  | Officer                   |   35000 |\n",
       "| Akshat     | Clerk                     |   23000 |\n",
       "| Jeetesh    | Helper                    |   20000 |\n",
       "| Subham     | Executive                 |   29000 |\n",
       "| Saifee     | Manager                   |   40000 |\n",
       "| Sourav     | Executive                 |   50000 |\n",
       "| Binoy      | Officer                   |   42000 |"
      ],
      "text/plain": [
       "<IPython.core.display.Markdown object>"
      ]
     },
     "metadata": {},
     "output_type": "display_data"
    },
    {
     "name": "stdout",
     "output_type": "stream",
     "text": [
      "\n",
      "\n"
     ]
    }
   ],
   "source": [
    "cursor.execute(\"\"\"SELECT e.emp_name,d.desig_name ,e.basic from EMP e inner join DESIGNATION d on e.desig_code = d.desig_code \"\"\")\n",
    "emp_rows = cursor.fetchall()\n",
    "print(\"\"\"\\nEMP Table:\"\"\")\n",
    "display_markdown(tabulate(emp_rows, headers=[\"\"\"emp_name\"\"\",\"\"\"designation_description\"\"\",\"\"\"basic\"\"\"], tablefmt=\"\"\"pipe\"\"\"))\n",
    "print(\"\"\"\\n\"\"\")"
   ]
  },
  {
   "cell_type": "code",
   "execution_count": 13,
   "id": "113b7849-6d46-4cb9-80ae-d50b0331a7e6",
   "metadata": {},
   "outputs": [
    {
     "name": "stdout",
     "output_type": "stream",
     "text": [
      "\n",
      "EMP Table:\n"
     ]
    },
    {
     "data": {
      "text/markdown": [
       "| emp_name   | designation_description   | department_name   |   basic |\n",
       "|:-----------|:--------------------------|:------------------|--------:|\n",
       "| Swapna Moy | Manager                   | Personell         |   35000 |\n",
       "| Abhinandan | Executive                 | Production        |   25000 |\n",
       "| Abrar      | Officer                   | Purchase          |   40000 |\n",
       "| Shahir     | Clerk                     | Finance           |   22000 |\n",
       "| Masud      | Helper                    | Research          |   18000 |\n",
       "| Azim       | Manager                   | Personell         |   33000 |\n",
       "| Soumyodeep | Executive                 | Production        |   27000 |\n",
       "| Sidhdhart  | Officer                   | Purchase          |   35000 |\n",
       "| Akshat     | Clerk                     | Finance           |   23000 |\n",
       "| Jeetesh    | Helper                    | Research          |   20000 |\n",
       "| Subham     | Executive                 | Personell         |   29000 |\n",
       "| Saifee     | Manager                   | Purchase          |   40000 |\n",
       "| Sourav     | Executive                 | Finance           |   50000 |\n",
       "| Binoy      | Officer                   | Research          |   42000 |"
      ],
      "text/plain": [
       "<IPython.core.display.Markdown object>"
      ]
     },
     "metadata": {},
     "output_type": "display_data"
    },
    {
     "name": "stdout",
     "output_type": "stream",
     "text": [
      "\n",
      "\n"
     ]
    }
   ],
   "source": [
    "cursor.execute(\"\"\"SELECT e.emp_name,d.desig_name ,p.dept_name,e.basic from EMP e inner join DESIGNATION d \n",
    "                    on e.desig_code = d.desig_code inner join DEPARTMENT p on p.dept_code = e.dept_code \"\"\")\n",
    "emp_rows = cursor.fetchall()\n",
    "print(\"\"\"\\nEMP Table:\"\"\")\n",
    "display_markdown(tabulate(emp_rows, headers=[\"\"\"emp_name\"\"\",\"\"\"designation_description\"\"\",\"\"\"department_name\"\"\",\"\"\"basic\"\"\"], tablefmt=\"\"\"pipe\"\"\"))\n",
    "print(\"\"\"\\n\"\"\")"
   ]
  },
  {
   "cell_type": "code",
   "execution_count": 15,
   "id": "b33b3c8a-b0f9-45ab-9e8c-a47aae1a7d5f",
   "metadata": {},
   "outputs": [
    {
     "name": "stdout",
     "output_type": "stream",
     "text": [
      "\n",
      "EMP Table:\n"
     ]
    },
    {
     "data": {
      "text/markdown": [
       "| department   |\n",
       "|:-------------|\n",
       "| DummyDep     |"
      ],
      "text/plain": [
       "<IPython.core.display.Markdown object>"
      ]
     },
     "metadata": {},
     "output_type": "display_data"
    },
    {
     "name": "stdout",
     "output_type": "stream",
     "text": [
      "\n",
      "\n"
     ]
    },
    {
     "data": {
      "text/plain": [
       "<sqlite3.Cursor at 0x21f134acfc0>"
      ]
     },
     "execution_count": 15,
     "metadata": {},
     "output_type": "execute_result"
    }
   ],
   "source": [
    "#Add dummy department before executing this query\n",
    "cursor.execute(\"\"\"INSERT INTO DEPARTMENT VALUES ('P006','DummyDep')\"\"\")\n",
    "\n",
    "cursor.execute(\"\"\"SELECT dept_name from DEPARTMENT p where dept_code not in (select distinct dept_code from EMP) \"\"\")\n",
    "emp_rows = cursor.fetchall()\n",
    "print(\"\"\"\\nEMP Table:\"\"\")\n",
    "display_markdown(tabulate(emp_rows, headers=[\"\"\"department\"\"\"], tablefmt=\"\"\"pipe\"\"\"))\n",
    "print(\"\"\"\\n\"\"\")\n",
    "\n",
    "#Remove dummy department\n",
    "cursor.execute(\"\"\"DELETE from DEPARTMENT where dept_code = 'P006'\"\"\")"
   ]
  },
  {
   "cell_type": "code",
   "execution_count": 16,
   "id": "1d0122bc-2aba-4ad5-b5be-13fd2bbee5a1",
   "metadata": {},
   "outputs": [
    {
     "name": "stdout",
     "output_type": "stream",
     "text": [
      "\n",
      "EMP Table:\n"
     ]
    },
    {
     "data": {
      "text/markdown": [
       "| department   |\n",
       "|:-------------|\n",
       "| Personell    |\n",
       "| Production   |\n",
       "| Purchase     |\n",
       "| Finance      |\n",
       "| Research     |"
      ],
      "text/plain": [
       "<IPython.core.display.Markdown object>"
      ]
     },
     "metadata": {},
     "output_type": "display_data"
    },
    {
     "name": "stdout",
     "output_type": "stream",
     "text": [
      "\n",
      "\n"
     ]
    }
   ],
   "source": [
    "cursor.execute(\"\"\"SELECT dept_name from DEPARTMENT p where dept_code in (select distinct dept_code from EMP) \"\"\")\n",
    "emp_rows = cursor.fetchall()\n",
    "print(\"\"\"\\nEMP Table:\"\"\")\n",
    "display_markdown(tabulate(emp_rows, headers=[\"\"\"department\"\"\"], tablefmt=\"\"\"pipe\"\"\"))\n",
    "print(\"\"\"\\n\"\"\")"
   ]
  },
  {
   "cell_type": "code",
   "execution_count": 21,
   "id": "0cbfcda8-df24-4f97-b7cb-a0a6c9da1130",
   "metadata": {},
   "outputs": [
    {
     "name": "stdout",
     "output_type": "stream",
     "text": [
      "\n",
      "EMP Table:\n"
     ]
    },
    {
     "data": {
      "text/markdown": [
       "| department   |\n",
       "|--------------|"
      ],
      "text/plain": [
       "<IPython.core.display.Markdown object>"
      ]
     },
     "metadata": {},
     "output_type": "display_data"
    },
    {
     "name": "stdout",
     "output_type": "stream",
     "text": [
      "\n",
      "\n"
     ]
    }
   ],
   "source": [
    "cursor.execute(\"\"\"SELECT dept_name from DEPARTMENT p where dept_code in (select dept_code from EMP \n",
    "                    group by dept_code having count(*)>=10) \"\"\")\n",
    "emp_rows = cursor.fetchall()\n",
    "print(\"\"\"\\nEMP Table:\"\"\")\n",
    "display_markdown(tabulate(emp_rows, headers=[\"\"\"department\"\"\"], tablefmt=\"\"\"pipe\"\"\"))\n",
    "print(\"\"\"\\n\"\"\")"
   ]
  },
  {
   "cell_type": "code",
   "execution_count": 18,
   "id": "aa28ae52-7cdf-4501-bab8-30009f15e76b",
   "metadata": {},
   "outputs": [
    {
     "name": "stdout",
     "output_type": "stream",
     "text": [
      "\n",
      "EMP Table:\n"
     ]
    },
    {
     "data": {
      "text/markdown": [
       "| department   |\n",
       "|:-------------|\n",
       "| Finance      |"
      ],
      "text/plain": [
       "<IPython.core.display.Markdown object>"
      ]
     },
     "metadata": {},
     "output_type": "display_data"
    },
    {
     "name": "stdout",
     "output_type": "stream",
     "text": [
      "\n",
      "\n"
     ]
    }
   ],
   "source": [
    "cursor.execute(\"\"\"SELECT dept_name from DEPARTMENT p where dept_code in (select dept_code from EMP \n",
    "                    where basic in (select max(basic) from EMP)) \"\"\")\n",
    "emp_rows = cursor.fetchall()\n",
    "print(\"\"\"\\nEMP Table:\"\"\")\n",
    "display_markdown(tabulate(emp_rows, headers=[\"\"\"department\"\"\"], tablefmt=\"\"\"pipe\"\"\"))\n",
    "print(\"\"\"\\n\"\"\")"
   ]
  },
  {
   "cell_type": "code",
   "execution_count": 8,
   "id": "a9aea81b-5367-4f28-b749-58a277286688",
   "metadata": {},
   "outputs": [
    {
     "name": "stdout",
     "output_type": "stream",
     "text": [
      "\n",
      "EMP Table:\n"
     ]
    },
    {
     "data": {
      "text/markdown": [
       "| designation   |\n",
       "|:--------------|\n",
       "| Executive     |"
      ],
      "text/plain": [
       "<IPython.core.display.Markdown object>"
      ]
     },
     "metadata": {},
     "output_type": "display_data"
    },
    {
     "name": "stdout",
     "output_type": "stream",
     "text": [
      "\n",
      "\n"
     ]
    }
   ],
   "source": [
    "cursor.execute(\"\"\"SELECT desig_name from DESIGNATION d where desig_code in \n",
    "                (select desig_code from EMP where basic in (select max(basic) from EMP)) \"\"\")\n",
    "emp_rows = cursor.fetchall()\n",
    "print(\"\"\"\\nEMP Table:\"\"\")\n",
    "display_markdown(tabulate(emp_rows, headers=[\"\"\"designation\"\"\"], tablefmt=\"\"\"pipe\"\"\"))\n",
    "print(\"\"\"\\n\"\"\")"
   ]
  },
  {
   "cell_type": "code",
   "execution_count": 24,
   "id": "902fa871-f15d-4fa6-894a-c2f0908b76f6",
   "metadata": {},
   "outputs": [
    {
     "name": "stdout",
     "output_type": "stream",
     "text": [
      "\n",
      "EMP Table:\n"
     ]
    },
    {
     "data": {
      "text/markdown": [
       "| department   |   no_of_manager |\n",
       "|:-------------|----------------:|\n",
       "| P001         |               2 |\n",
       "| P003         |               1 |"
      ],
      "text/plain": [
       "<IPython.core.display.Markdown object>"
      ]
     },
     "metadata": {},
     "output_type": "display_data"
    },
    {
     "name": "stdout",
     "output_type": "stream",
     "text": [
      "\n",
      "\n"
     ]
    }
   ],
   "source": [
    "cursor.execute(\"\"\"SELECT dept_code,count(*) from EMP where desig_code in \n",
    "                 (select desig_code from DESIGNATION D where desig_name = 'Manager') group by dept_code\"\"\")\n",
    "emp_rows = cursor.fetchall()\n",
    "print(\"\"\"\\nEMP Table:\"\"\")\n",
    "display_markdown(tabulate(emp_rows, headers=[\"\"\"department\"\"\",\"\"\"no_of_manager\"\"\"], tablefmt=\"\"\"pipe\"\"\"))\n",
    "print(\"\"\"\\n\"\"\")"
   ]
  },
  {
   "cell_type": "code",
   "execution_count": 20,
   "id": "c74ec344-5fce-4635-a96e-47a09bbe011a",
   "metadata": {},
   "outputs": [
    {
     "name": "stdout",
     "output_type": "stream",
     "text": [
      "\n",
      "EMP Table:\n"
     ]
    },
    {
     "data": {
      "text/markdown": [
       "|   maximum_basic |\n",
       "|----------------:|\n",
       "|           50000 |"
      ],
      "text/plain": [
       "<IPython.core.display.Markdown object>"
      ]
     },
     "metadata": {},
     "output_type": "display_data"
    },
    {
     "name": "stdout",
     "output_type": "stream",
     "text": [
      "\n",
      "\n"
     ]
    }
   ],
   "source": [
    "cursor.execute(\"\"\"SELECT basic from EMP order by basic DESC limit 1 \"\"\")\n",
    "emp_rows = cursor.fetchall()\n",
    "print(\"\"\"\\nEMP Table:\"\"\")\n",
    "display_markdown(tabulate(emp_rows, headers=[\"\"\"maximum_basic\"\"\"], tablefmt=\"\"\"pipe\"\"\"))\n",
    "print(\"\"\"\\n\"\"\")"
   ]
  },
  {
   "cell_type": "code",
   "execution_count": 21,
   "id": "d3d6fd7c-dc41-4d02-8662-320866ecb56e",
   "metadata": {},
   "outputs": [
    {
     "name": "stdout",
     "output_type": "stream",
     "text": [
      "\n",
      "EMP Table:\n"
     ]
    },
    {
     "data": {
      "text/markdown": [
       "|   maximum_basic |\n",
       "|----------------:|\n",
       "|           18000 |"
      ],
      "text/plain": [
       "<IPython.core.display.Markdown object>"
      ]
     },
     "metadata": {},
     "output_type": "display_data"
    },
    {
     "name": "stdout",
     "output_type": "stream",
     "text": [
      "\n",
      "\n"
     ]
    }
   ],
   "source": [
    "cursor.execute(\"\"\"SELECT basic from EMP order by basic ASC limit 1 \"\"\")\n",
    "emp_rows = cursor.fetchall()\n",
    "print(\"\"\"\\nEMP Table:\"\"\")\n",
    "display_markdown(tabulate(emp_rows, headers=[\"\"\"maximum_basic\"\"\"], tablefmt=\"\"\"pipe\"\"\"))\n",
    "print(\"\"\"\\n\"\"\")"
   ]
  },
  {
   "cell_type": "code",
   "execution_count": 25,
   "id": "275d087b-2d1c-4405-b993-5d2017c85ec4",
   "metadata": {},
   "outputs": [
    {
     "name": "stdout",
     "output_type": "stream",
     "text": [
      "\n",
      "EMP Table:\n"
     ]
    },
    {
     "data": {
      "text/markdown": [
       "| maximum_basic   |   total_basic |\n",
       "|:----------------|--------------:|\n",
       "| Purchase        |        115000 |"
      ],
      "text/plain": [
       "<IPython.core.display.Markdown object>"
      ]
     },
     "metadata": {},
     "output_type": "display_data"
    },
    {
     "name": "stdout",
     "output_type": "stream",
     "text": [
      "\n",
      "\n"
     ]
    }
   ],
   "source": [
    "cursor.execute(\"\"\"SELECT d.dept_name ,sum(basic) from DEPARTMENT d inner join EMP e on\n",
    "                    e.dept_code = d.dept_code group by e.dept_code  order by sum(basic) DESC limit 1 \"\"\")\n",
    "emp_rows = cursor.fetchall()\n",
    "print(\"\"\"\\nEMP Table:\"\"\")\n",
    "display_markdown(tabulate(emp_rows, headers=[\"\"\"maximum_basic\"\"\",\"\"\"total_basic\"\"\"], tablefmt=\"\"\"pipe\"\"\"))\n",
    "print(\"\"\"\\n\"\"\")"
   ]
  },
  {
   "cell_type": "code",
   "execution_count": 26,
   "id": "8d74ec6f-18b8-41e5-a358-ab0cfb073463",
   "metadata": {},
   "outputs": [
    {
     "name": "stdout",
     "output_type": "stream",
     "text": [
      "\n",
      "EMP Table:\n"
     ]
    },
    {
     "data": {
      "text/markdown": [
       "| maximum_basic   |   average_basic |\n",
       "|:----------------|----------------:|\n",
       "| Purchase        |         38333.3 |"
      ],
      "text/plain": [
       "<IPython.core.display.Markdown object>"
      ]
     },
     "metadata": {},
     "output_type": "display_data"
    },
    {
     "name": "stdout",
     "output_type": "stream",
     "text": [
      "\n",
      "\n"
     ]
    }
   ],
   "source": [
    "cursor.execute(\"\"\"SELECT d.dept_name ,avg(basic) from DEPARTMENT d inner join EMP e \n",
    "                on e.dept_code = d.dept_code group by e.dept_code  order by avg(basic) DESC limit 1 \"\"\")\n",
    "emp_rows = cursor.fetchall()\n",
    "print(\"\"\"\\nEMP Table:\"\"\")\n",
    "display_markdown(tabulate(emp_rows, headers=[\"\"\"maximum_basic\"\"\",\"\"\"average_basic\"\"\"], tablefmt=\"\"\"pipe\"\"\"))\n",
    "print(\"\"\"\\n\"\"\")"
   ]
  },
  {
   "cell_type": "code",
   "execution_count": 27,
   "id": "816d1dc5-135c-41d5-b7f1-587d28a2f1fd",
   "metadata": {},
   "outputs": [
    {
     "name": "stdout",
     "output_type": "stream",
     "text": [
      "\n",
      "EMP Table:\n"
     ]
    },
    {
     "data": {
      "text/markdown": [
       "| maximum_basic   |   no_of_employee |\n",
       "|:----------------|-----------------:|\n",
       "| Research        |                3 |"
      ],
      "text/plain": [
       "<IPython.core.display.Markdown object>"
      ]
     },
     "metadata": {},
     "output_type": "display_data"
    },
    {
     "name": "stdout",
     "output_type": "stream",
     "text": [
      "\n",
      "\n"
     ]
    }
   ],
   "source": [
    "cursor.execute(\"\"\"SELECT d.dept_name ,count(*) from DEPARTMENT d inner join EMP e \n",
    "                on e.dept_code = d.dept_code group by e.dept_code  order by count(*) DESC limit 1 \"\"\")\n",
    "emp_rows = cursor.fetchall()\n",
    "print(\"\"\"\\nEMP Table:\"\"\")\n",
    "display_markdown(tabulate(emp_rows, headers=[\"\"\"maximum_basic\"\"\",\"\"\"no_of_employee\"\"\"], tablefmt=\"\"\"pipe\"\"\"))\n",
    "print(\"\"\"\\n\"\"\")"
   ]
  },
  {
   "cell_type": "code",
   "execution_count": 30,
   "id": "323b3bd3-ab0a-4454-a45f-e8cabbb418a2",
   "metadata": {},
   "outputs": [
    {
     "name": "stdout",
     "output_type": "stream",
     "text": [
      "\n",
      "EMP Table:\n"
     ]
    },
    {
     "data": {
      "text/markdown": [
       "| emp_code   | emp_name   | dept_code   | desig_code   | sex   | address                        | city      | state       |    pin |   basic | JN_date    |\n",
       "|:-----------|:-----------|:------------|:-------------|:------|:-------------------------------|:----------|:------------|-------:|--------:|:-----------|\n",
       "| E001       | Swapna Moy | P001        | D001         | F     | 123, Park Street, Kolkata      | Kolkata   | West Bengal | 700001 |   35000 | 2023-01-15 |\n",
       "| E002       | Abhinandan | P002        | D002         | M     | 456, MG Road, Durgapur         | Durgapur  | West Bengal | 713201 |   25000 | 2023-02-20 |\n",
       "| E003       | Abrar      | P003        | D003         | M     | 789, Salt Lake, Kolkata        | Kolkata   | West Bengal | 700091 |   40000 | 2023-03-10 |\n",
       "| E004       | Shahir     | P004        | D004         | M     | 321, Rajarhat, Kolkata         | Kolkata   | West Bengal | 700135 |   22000 | 2023-04-05 |\n",
       "| E005       | Masud      | P005        | D005         | M     | 654, Howrah Bridge, Howrah     | Howrah    | West Bengal | 711101 |   18000 | 2023-05-30 |\n",
       "| E006       | Azim       | P001        | D001         | M     | 987, Dumdum, Kolkata           | Kolkata   | West Bengal | 700028 |   33000 | 2023-06-15 |\n",
       "| E007       | Soumyodeep | P002        | D002         | M     | 135, BBD Bagh, Kolkata         | Kolkata   | West Bengal | 700003 |   27000 | 2023-07-12 |\n",
       "| E008       | Sidhdhart  | P003        | D003         | M     | 864, Jadavpur, Kolkata         | Kolkata   | West Bengal | 700032 |   35000 | 2023-08-01 |\n",
       "| E009       | Akshat     | P004        | D004         | M     | 753, Sealdah, Kolkata          | Kolkata   | West Bengal | 700014 |   23000 | 2023-09-22 |\n",
       "| E010       | Jeetesh    | P005        | D005         | M     | 987, Newtown, Kolkata          | Kolkata   | West Bengal | 700135 |   20000 | 2023-10-17 |\n",
       "| E011       | Subham     | P001        | D002         | M     | 369, Ballygunge, Kolkata       | Kolkata   | West Bengal | 700019 |   29000 | 2023-11-05 |\n",
       "| E015       | Saifee     | P003        | D001         | F     | 123, Bankura Road, Bankura     | Bankura   | West Bengal | 722101 |   40000 | 2000-12-15 |\n",
       "| E016       | Sourav     | P004        | D002         | F     | 12/2, High Court Road, Birbhum | Birbhum   | West Bengal | 722102 |   50000 | 1990-06-23 |\n",
       "| E017       | Binoy      | P005        | D003         | F     | 7, Baranganj  Road             | Sundarban | West Bengal | 722103 |   42000 | 2000-11-05 |\n",
       "| E0012      | DummyA     | P001        | D007         | F     | 123, Park Street, Kolkata      | Kolkata   | West Bengal | 700001 |   35000 | 2023-01-15 |\n",
       "| E0013      | DummyB     | P002        | D008         | M     | 456, MG Road, Durgapur         | Durgapur  | West Bengal | 713201 |   25000 | 2023-02-20 |"
      ],
      "text/plain": [
       "<IPython.core.display.Markdown object>"
      ]
     },
     "metadata": {},
     "output_type": "display_data"
    },
    {
     "name": "stdout",
     "output_type": "stream",
     "text": [
      "\n",
      "\n"
     ]
    }
   ],
   "source": [
    "cursor.execute(\"\"\" INSERT INTO EMP (emp_code, emp_name, dept_code, desig_code, sex, address, city, state, pin, basic, JN_date) \n",
    "VALUES \n",
    "    ('E0012', 'DummyA', 'P001', 'D007', 'F', '123, Park Street, Kolkata', 'Kolkata', 'West Bengal', '700001', 35000, '2023-01-15'),\n",
    "    ('E0013', 'DummyB', 'P002', 'D008', 'M', '456, MG Road, Durgapur', 'Durgapur', 'West Bengal', '713201', 25000, '2023-02-20')\"\"\")\n",
    "cursor.execute(\"\"\"SELECT * from EMP\"\"\")\n",
    "emp_rows = cursor.fetchall()\n",
    "print(\"\"\"\\nEMP Table:\"\"\")\n",
    "display_markdown(tabulate(emp_rows, headers=emp_columns, tablefmt=\"\"\"pipe\"\"\"))\n",
    "print(\"\"\"\\n\"\"\")"
   ]
  },
  {
   "cell_type": "code",
   "execution_count": 31,
   "id": "34f9b743-91e3-41e0-bd8e-644ee4aeea24",
   "metadata": {},
   "outputs": [
    {
     "name": "stdout",
     "output_type": "stream",
     "text": [
      "\n",
      "EMP Table:\n"
     ]
    },
    {
     "data": {
      "text/markdown": [
       "| emp_code   | emp_name   | dept_code   | desig_code   | sex   | address                        | city      | state       |    pin |   basic | JN_date    |\n",
       "|:-----------|:-----------|:------------|:-------------|:------|:-------------------------------|:----------|:------------|-------:|--------:|:-----------|\n",
       "| E001       | Swapna Moy | P001        | D001         | F     | 123, Park Street, Kolkata      | Kolkata   | West Bengal | 700001 |   35000 | 2023-01-15 |\n",
       "| E002       | Abhinandan | P002        | D002         | M     | 456, MG Road, Durgapur         | Durgapur  | West Bengal | 713201 |   25000 | 2023-02-20 |\n",
       "| E003       | Abrar      | P003        | D003         | M     | 789, Salt Lake, Kolkata        | Kolkata   | West Bengal | 700091 |   40000 | 2023-03-10 |\n",
       "| E004       | Shahir     | P004        | D004         | M     | 321, Rajarhat, Kolkata         | Kolkata   | West Bengal | 700135 |   22000 | 2023-04-05 |\n",
       "| E005       | Masud      | P005        | D005         | M     | 654, Howrah Bridge, Howrah     | Howrah    | West Bengal | 711101 |   18000 | 2023-05-30 |\n",
       "| E006       | Azim       | P001        | D001         | M     | 987, Dumdum, Kolkata           | Kolkata   | West Bengal | 700028 |   33000 | 2023-06-15 |\n",
       "| E007       | Soumyodeep | P002        | D002         | M     | 135, BBD Bagh, Kolkata         | Kolkata   | West Bengal | 700003 |   27000 | 2023-07-12 |\n",
       "| E008       | Sidhdhart  | P003        | D003         | M     | 864, Jadavpur, Kolkata         | Kolkata   | West Bengal | 700032 |   35000 | 2023-08-01 |\n",
       "| E009       | Akshat     | P004        | D004         | M     | 753, Sealdah, Kolkata          | Kolkata   | West Bengal | 700014 |   23000 | 2023-09-22 |\n",
       "| E010       | Jeetesh    | P005        | D005         | M     | 987, Newtown, Kolkata          | Kolkata   | West Bengal | 700135 |   20000 | 2023-10-17 |\n",
       "| E011       | Subham     | P001        | D002         | M     | 369, Ballygunge, Kolkata       | Kolkata   | West Bengal | 700019 |   29000 | 2023-11-05 |\n",
       "| E015       | Saifee     | P003        | D001         | F     | 123, Bankura Road, Bankura     | Bankura   | West Bengal | 722101 |   40000 | 2000-12-15 |\n",
       "| E016       | Sourav     | P004        | D002         | F     | 12/2, High Court Road, Birbhum | Birbhum   | West Bengal | 722102 |   50000 | 1990-06-23 |\n",
       "| E017       | Binoy      | P005        | D003         | F     | 7, Baranganj  Road             | Sundarban | West Bengal | 722103 |   42000 | 2000-11-05 |"
      ],
      "text/plain": [
       "<IPython.core.display.Markdown object>"
      ]
     },
     "metadata": {},
     "output_type": "display_data"
    },
    {
     "name": "stdout",
     "output_type": "stream",
     "text": [
      "\n",
      "\n"
     ]
    }
   ],
   "source": [
    "cursor.execute(\"\"\"DELETE from EMP where desig_code not in (select desig_code from DESIGNATION)\"\"\")\n",
    "cursor.execute(\"\"\"SELECT * from EMP\"\"\")\n",
    "emp_rows = cursor.fetchall()\n",
    "print(\"\"\"\\nEMP Table:\"\"\")\n",
    "display_markdown(tabulate(emp_rows, headers=emp_columns, tablefmt=\"\"\"pipe\"\"\"))\n",
    "print(\"\"\"\\n\"\"\")"
   ]
  },
  {
   "cell_type": "code",
   "execution_count": 9,
   "id": "21823b8e-ea16-4d6f-8450-df5f089a0a1a",
   "metadata": {},
   "outputs": [
    {
     "name": "stdout",
     "output_type": "stream",
     "text": [
      "\n",
      "EMP Table:\n"
     ]
    },
    {
     "data": {
      "text/markdown": [
       "| emp_code   | emp_name   | dept_code   | desig_code   | sex   | address                        | city      | state       |    pin |   basic | JN_date    |\n",
       "|:-----------|:-----------|:------------|:-------------|:------|:-------------------------------|:----------|:------------|-------:|--------:|:-----------|\n",
       "| E001       | Swapna Moy | P001        | D001         | F     | 123, Park Street, Kolkata      | Kolkata   | West Bengal | 700001 |   35000 | 2023-01-15 |\n",
       "| E015       | Saifee     | P003        | D001         | F     | 123, Bankura Road, Bankura     | Bankura   | West Bengal | 722101 |   40000 | 2000-12-15 |\n",
       "| E016       | Sourav     | P004        | D002         | F     | 12/2, High Court Road, Birbhum | Birbhum   | West Bengal | 722102 |   50000 | 1990-06-23 |\n",
       "| E017       | Binoy      | P005        | D003         | F     | 7, Baranganj  Road             | Sundarban | West Bengal | 722103 |   42000 | 2000-11-05 |"
      ],
      "text/plain": [
       "<IPython.core.display.Markdown object>"
      ]
     },
     "metadata": {},
     "output_type": "display_data"
    },
    {
     "name": "stdout",
     "output_type": "stream",
     "text": [
      "\n",
      "\n"
     ]
    }
   ],
   "source": [
    "cursor.execute(\"\"\"SELECT * from EMP e where sex = 'F' and basic > (select avg(basic) from EMP e2 \n",
    "                    where e2.dept_code = e.dept_code group by dept_code )\"\"\")\n",
    "emp_rows = cursor.fetchall()\n",
    "print(\"\"\"\\nEMP Table:\"\"\")\n",
    "display_markdown(tabulate(emp_rows, headers=emp_columns, tablefmt=\"\"\"pipe\"\"\"))\n",
    "print(\"\"\"\\n\"\"\")"
   ]
  },
  {
   "cell_type": "code",
   "execution_count": 33,
   "id": "d7726d6b-0ffc-4ced-b15f-a4ae5483e7db",
   "metadata": {},
   "outputs": [
    {
     "name": "stdout",
     "output_type": "stream",
     "text": [
      "\n",
      "EMP Table:\n"
     ]
    },
    {
     "data": {
      "text/markdown": [
       "| emp_code   | emp_name   | dept_code   | desig_code   | sex   | address                    | city    | state       |    pin |   basic | JN_date    |\n",
       "|:-----------|:-----------|:------------|:-------------|:------|:---------------------------|:--------|:------------|-------:|--------:|:-----------|\n",
       "| E001       | Swapna Moy | P001        | D001         | F     | 123, Park Street, Kolkata  | Kolkata | West Bengal | 700001 |   35000 | 2023-01-15 |\n",
       "| E015       | Saifee     | P003        | D001         | F     | 123, Bankura Road, Bankura | Bankura | West Bengal | 722101 |   40000 | 2000-12-15 |"
      ],
      "text/plain": [
       "<IPython.core.display.Markdown object>"
      ]
     },
     "metadata": {},
     "output_type": "display_data"
    },
    {
     "name": "stdout",
     "output_type": "stream",
     "text": [
      "\n",
      "\n"
     ]
    }
   ],
   "source": [
    "cursor.execute(\"\"\"SELECT * from EMP where sex = 'F' and \n",
    "                desig_code = (select desig_code from DESIGNATION where desig_name = 'Manager')\"\"\")\n",
    "emp_rows = cursor.fetchall()\n",
    "print(\"\"\"\\nEMP Table:\"\"\")\n",
    "display_markdown(tabulate(emp_rows, headers=emp_columns, tablefmt=\"\"\"pipe\"\"\"))\n",
    "print(\"\"\"\\n\"\"\")"
   ]
  }
 ],
 "metadata": {
  "kernelspec": {
   "display_name": "Python 3 (ipykernel)",
   "language": "python",
   "name": "python3"
  },
  "language_info": {
   "codemirror_mode": {
    "name": "ipython",
    "version": 3
   },
   "file_extension": ".py",
   "mimetype": "text/x-python",
   "name": "python",
   "nbconvert_exporter": "python",
   "pygments_lexer": "ipython3",
   "version": "3.13.2"
  }
 },
 "nbformat": 4,
 "nbformat_minor": 5
}
